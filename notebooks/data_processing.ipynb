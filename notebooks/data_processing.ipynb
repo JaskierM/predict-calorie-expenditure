{
 "cells": [
  {
   "cell_type": "markdown",
   "id": "d4cf411f",
   "metadata": {},
   "source": [
    "## 1 Preliminaries"
   ]
  },
  {
   "cell_type": "markdown",
   "id": "a3ce710e",
   "metadata": {},
   "source": [
    "## 1.1 Imports and Configurations"
   ]
  },
  {
   "cell_type": "markdown",
   "id": "d4307b24",
   "metadata": {},
   "source": [
    "### Imports"
   ]
  },
  {
   "cell_type": "code",
   "execution_count": 47,
   "id": "832b2527",
   "metadata": {},
   "outputs": [],
   "source": [
    "import random\n",
    "import numpy as np\n",
    "import pandas as pd\n",
    "import matplotlib.pyplot as plt\n",
    "\n",
    "from pathlib import Path\n",
    "from pandas.api.types import CategoricalDtype\n",
    "from typing import List, Dict, Optional, Union\n",
    "from sklearn.feature_selection import mutual_info_regression\n",
    "from ydata_profiling import ProfileReport"
   ]
  },
  {
   "cell_type": "markdown",
   "id": "a94d8ca1",
   "metadata": {},
   "source": [
    "### Constants"
   ]
  },
  {
   "cell_type": "code",
   "execution_count": 48,
   "id": "6192fcd1",
   "metadata": {},
   "outputs": [],
   "source": [
    "# 1 Preliminaries\n",
    "\n",
    "RANDOM_STATE = 42\n",
    "\n",
    "RAW_TRAIN_PATH = Path(\"../data/raw/train.csv\")\n",
    "RAW_TEST_PATH = Path(\"../data/raw/test.csv\")\n",
    "\n",
    "FEATURES_CAT = [\"Sex\"]\n",
    "\n",
    "# 2 Feature Utility Scores\n",
    "\n",
    "MI_SCORES_FEATURE_TO_ESTIMATE = \"Calories\"\n",
    "\n",
    "# 3 Feature Engineering\n",
    "\n",
    "DROP_FEATURES_AFTER_ENGINEERING = (\n",
    "    \"Is_High_BMI\",\n",
    "    \"Sex\",\n",
    "    \"Age_Grop\",\n",
    ")\n",
    "\n",
    "REPORTS_DIR = Path(\"../reports/\")\n",
    "REPORTS_DIR.mkdir(exist_ok=True)\n",
    "\n",
    "FINAL_TRAIN_PATH = Path(\"../data/final/train.csv\")\n",
    "FINAL_TEST_PATH = Path(\"../data/final/test.csv\")"
   ]
  },
  {
   "cell_type": "markdown",
   "id": "4c9332ec",
   "metadata": {},
   "source": [
    "### Configs"
   ]
  },
  {
   "cell_type": "code",
   "execution_count": 49,
   "id": "f1707e64",
   "metadata": {},
   "outputs": [],
   "source": [
    "random.seed(RANDOM_STATE)\n",
    "np.random.seed(RANDOM_STATE)"
   ]
  },
  {
   "cell_type": "markdown",
   "id": "169e681f",
   "metadata": {},
   "source": [
    "## 1.2 Data Preprocessing"
   ]
  },
  {
   "cell_type": "markdown",
   "id": "8ba21967",
   "metadata": {},
   "source": [
    "### Read"
   ]
  },
  {
   "cell_type": "code",
   "execution_count": 50,
   "id": "9696236d",
   "metadata": {},
   "outputs": [],
   "source": [
    "def read_data(path: Union[str, Path]) -> pd.DataFrame:\n",
    "    df = pd.read_csv(path, index_col=0)\n",
    "    return df"
   ]
  },
  {
   "cell_type": "code",
   "execution_count": 51,
   "id": "ef113009",
   "metadata": {},
   "outputs": [],
   "source": [
    "df_train = read_data(RAW_TRAIN_PATH)"
   ]
  },
  {
   "cell_type": "code",
   "execution_count": 52,
   "id": "421be149",
   "metadata": {},
   "outputs": [
    {
     "name": "stdout",
     "output_type": "stream",
     "text": [
      "<class 'pandas.core.frame.DataFrame'>\n",
      "Index: 750000 entries, 0 to 749999\n",
      "Data columns (total 8 columns):\n",
      " #   Column      Non-Null Count   Dtype  \n",
      "---  ------      --------------   -----  \n",
      " 0   Sex         750000 non-null  object \n",
      " 1   Age         750000 non-null  int64  \n",
      " 2   Height      750000 non-null  float64\n",
      " 3   Weight      750000 non-null  float64\n",
      " 4   Duration    750000 non-null  float64\n",
      " 5   Heart_Rate  750000 non-null  float64\n",
      " 6   Body_Temp   750000 non-null  float64\n",
      " 7   Calories    750000 non-null  float64\n",
      "dtypes: float64(6), int64(1), object(1)\n",
      "memory usage: 51.5+ MB\n"
     ]
    }
   ],
   "source": [
    "df_train.info()"
   ]
  },
  {
   "cell_type": "code",
   "execution_count": 53,
   "id": "12ab1fef",
   "metadata": {},
   "outputs": [],
   "source": [
    "df_test = read_data(RAW_TEST_PATH)"
   ]
  },
  {
   "cell_type": "code",
   "execution_count": 54,
   "id": "506f18d3",
   "metadata": {},
   "outputs": [
    {
     "name": "stdout",
     "output_type": "stream",
     "text": [
      "<class 'pandas.core.frame.DataFrame'>\n",
      "Index: 250000 entries, 750000 to 999999\n",
      "Data columns (total 7 columns):\n",
      " #   Column      Non-Null Count   Dtype  \n",
      "---  ------      --------------   -----  \n",
      " 0   Sex         250000 non-null  object \n",
      " 1   Age         250000 non-null  int64  \n",
      " 2   Height      250000 non-null  float64\n",
      " 3   Weight      250000 non-null  float64\n",
      " 4   Duration    250000 non-null  float64\n",
      " 5   Heart_Rate  250000 non-null  float64\n",
      " 6   Body_Temp   250000 non-null  float64\n",
      "dtypes: float64(5), int64(1), object(1)\n",
      "memory usage: 15.3+ MB\n"
     ]
    }
   ],
   "source": [
    "df_test.info()"
   ]
  },
  {
   "cell_type": "markdown",
   "id": "a02ff022",
   "metadata": {},
   "source": [
    "### Missing Values"
   ]
  },
  {
   "cell_type": "code",
   "execution_count": 55,
   "id": "f2dda112",
   "metadata": {},
   "outputs": [
    {
     "data": {
      "text/plain": [
       "np.int64(0)"
      ]
     },
     "execution_count": 55,
     "metadata": {},
     "output_type": "execute_result"
    }
   ],
   "source": [
    "df_train.isna().sum().sum()"
   ]
  },
  {
   "cell_type": "code",
   "execution_count": 56,
   "id": "dfc2cd32",
   "metadata": {},
   "outputs": [
    {
     "data": {
      "text/plain": [
       "np.int64(0)"
      ]
     },
     "execution_count": 56,
     "metadata": {},
     "output_type": "execute_result"
    }
   ],
   "source": [
    "df_test.isna().sum().sum()"
   ]
  },
  {
   "cell_type": "markdown",
   "id": "2233607e",
   "metadata": {},
   "source": [
    "### Encode"
   ]
  },
  {
   "cell_type": "code",
   "execution_count": 57,
   "id": "ac07a41f",
   "metadata": {},
   "outputs": [],
   "source": [
    "def encode(\n",
    "    df: pd.DataFrame,\n",
    "    features_cat: Optional[List[str]] = None,\n",
    "    features_date: Optional[List[str]] = None,\n",
    "    feature_ord_levels: Optional[Dict[str, List[str]]] = None,\n",
    "    format: str = \"%d-%m-%Y\",\n",
    ") -> pd.DataFrame:\n",
    "\n",
    "    def encode_cat(df: pd.DataFrame, features_cat: List[str]) -> pd.DataFrame:\n",
    "        for feature in features_cat:\n",
    "            if feature in df.columns:\n",
    "                df[feature] = df[feature].astype(\"category\")\n",
    "        return df\n",
    "\n",
    "    def encode_date(df: pd.DataFrame, features_date: List[str]) -> pd.DataFrame:\n",
    "        for feature in features_date:\n",
    "            if feature in df.columns:\n",
    "                df[feature] = pd.to_datetime(\n",
    "                    df[feature], format=format, errors=\"coerce\"\n",
    "                )\n",
    "        return df\n",
    "\n",
    "    def encode_ord(\n",
    "        df: pd.DataFrame, feature_ord_levels: Dict[str, List[str]]\n",
    "    ) -> pd.DataFrame:\n",
    "        for feature, levels in feature_ord_levels.items():\n",
    "            if feature in df.columns:\n",
    "                cat_type = CategoricalDtype(categories=levels, ordered=True)\n",
    "                df[feature] = df[feature].astype(str).astype(cat_type)\n",
    "        return df\n",
    "\n",
    "    if features_cat:\n",
    "        df = encode_cat(df, features_cat)\n",
    "\n",
    "    if features_date:\n",
    "        df = encode_date(df, features_date)\n",
    "\n",
    "    if feature_ord_levels:\n",
    "        df = encode_ord(df, feature_ord_levels)\n",
    "\n",
    "    return df"
   ]
  },
  {
   "cell_type": "code",
   "execution_count": 58,
   "id": "3b0a566e",
   "metadata": {},
   "outputs": [],
   "source": [
    "df_train_encoded = encode(df_train_cleaned, features_cat=FEATURES_CAT)"
   ]
  },
  {
   "cell_type": "markdown",
   "id": "23a8f78b",
   "metadata": {},
   "source": [
    "### Summary"
   ]
  },
  {
   "cell_type": "code",
   "execution_count": 59,
   "id": "0a0dbe91",
   "metadata": {},
   "outputs": [],
   "source": [
    "def preprocess_data(\n",
    "    path: str,\n",
    "    features_cat: Optional[List[str]] = None,\n",
    "    features_date: Optional[List[str]] = None,\n",
    "    feature_ord_levels: Optional[Dict[str, List[str]]] = None,\n",
    ") -> pd.DataFrame:\n",
    "\n",
    "    df = read_data(path)\n",
    "    df = encode(\n",
    "        df,\n",
    "        features_cat=features_cat or [],\n",
    "        features_date=features_date or [],\n",
    "        feature_ord_levels=feature_ord_levels or {},\n",
    "        format=\"%d/%m/%Y\",\n",
    "    )\n",
    "\n",
    "    return df"
   ]
  },
  {
   "cell_type": "code",
   "execution_count": 60,
   "id": "5e506620",
   "metadata": {},
   "outputs": [],
   "source": [
    "df_train_preprocessed = preprocess_data(path=RAW_TRAIN_PATH, features_cat=FEATURES_CAT)"
   ]
  },
  {
   "cell_type": "code",
   "execution_count": 61,
   "id": "6240e858",
   "metadata": {},
   "outputs": [
    {
     "data": {
      "text/plain": [
       "Sex           category\n",
       "Age              int64\n",
       "Height         float64\n",
       "Weight         float64\n",
       "Duration       float64\n",
       "Heart_Rate     float64\n",
       "Body_Temp      float64\n",
       "Calories       float64\n",
       "dtype: object"
      ]
     },
     "execution_count": 61,
     "metadata": {},
     "output_type": "execute_result"
    }
   ],
   "source": [
    "df_train_preprocessed.dtypes"
   ]
  },
  {
   "cell_type": "markdown",
   "id": "e3e77368",
   "metadata": {},
   "source": [
    "## 2 Feature Utility Scores"
   ]
  },
  {
   "cell_type": "markdown",
   "id": "a86ed8b3",
   "metadata": {},
   "source": [
    "## 2.1 MI Scores"
   ]
  },
  {
   "cell_type": "code",
   "execution_count": 20,
   "id": "59f91076",
   "metadata": {},
   "outputs": [],
   "source": [
    "def make_mi_scores(\n",
    "    X: pd.DataFrame, y: Union[pd.Series, np.ndarray], random_state: int = 0\n",
    ") -> pd.Series:\n",
    "    X = X.copy()\n",
    "    for feature in X.select_dtypes([\"object\", \"category\", \"datetime64[ns]\"]):\n",
    "        X[feature], _ = X[feature].factorize()\n",
    "        X[feature] = X[feature].astype(int).fillna(-1)\n",
    "\n",
    "    discrete_features: list[bool] = [pd.api.types.is_integer_dtype(t) for t in X.dtypes]\n",
    "    mi_scores = mutual_info_regression(\n",
    "        X, y, discrete_features=discrete_features, random_state=random_state\n",
    "    )\n",
    "    mi_scores_series = pd.Series(mi_scores, name=\"MI Scores\", index=X.columns)\n",
    "    return mi_scores_series.sort_values(ascending=False)"
   ]
  },
  {
   "cell_type": "code",
   "execution_count": 21,
   "id": "a17ef529",
   "metadata": {},
   "outputs": [],
   "source": [
    "def plot_mi_scores(scores: pd.Series) -> None:\n",
    "    scores = scores.sort_values(ascending=True)\n",
    "    width = np.arange(len(scores))\n",
    "    ticks = list(scores.index)\n",
    "\n",
    "    plt.figure(figsize=(10, 6))\n",
    "    plt.barh(width, scores)\n",
    "    plt.yticks(width, ticks)\n",
    "    plt.title(\"Mutual Information Scores\")\n",
    "    plt.xlabel(\"Score\")\n",
    "    plt.tight_layout()\n",
    "    plt.show()"
   ]
  },
  {
   "cell_type": "code",
   "execution_count": 21,
   "id": "1d544f09",
   "metadata": {},
   "outputs": [
    {
     "data": {
      "text/plain": [
       "Duration      1.638435\n",
       "Body_Temp     1.119307\n",
       "Heart_Rate    0.976208\n",
       "Age           0.095728\n",
       "Weight        0.054552\n",
       "Height        0.053719\n",
       "Sex           0.016690\n",
       "Name: MI Scores, dtype: float64"
      ]
     },
     "execution_count": 21,
     "metadata": {},
     "output_type": "execute_result"
    }
   ],
   "source": [
    "X_mi = df_train_preprocessed.copy()\n",
    "y_mi = X_mi.pop(MI_SCORES_FEATURE_TO_ESTIMATE)\n",
    "\n",
    "mi_scores = make_mi_scores(X_mi, y_mi, random_state=RANDOM_STATE)\n",
    "mi_scores"
   ]
  },
  {
   "cell_type": "code",
   "execution_count": 22,
   "id": "a399db5e",
   "metadata": {},
   "outputs": [
    {
     "data": {
      "image/png": "[encoded data removed]",
      "text/plain": [
       "<Figure size 1000x600 with 1 Axes>"
      ]
     },
     "metadata": {},
     "output_type": "display_data"
    }
   ],
   "source": [
    "plot_mi_scores(mi_scores)"
   ]
  },
  {
   "cell_type": "markdown",
   "id": "38443434",
   "metadata": {},
   "source": [
    "## 3 Feature Engineering"
   ]
  },
  {
   "cell_type": "markdown",
   "id": "b38cc645",
   "metadata": {},
   "source": [
    "## 3.1 Binning"
   ]
  },
  {
   "cell_type": "code",
   "execution_count": 62,
   "id": "6dd8c459",
   "metadata": {},
   "outputs": [],
   "source": [
    "def feature_binning(\n",
    "    df: pd.DataFrame,\n",
    "    add_age_group: bool = True,\n",
    "    add_hr_group: bool = True,\n",
    "    add_duration_group: bool = True,\n",
    ") -> pd.DataFrame:\n",
    "\n",
    "    df = df.copy()\n",
    "\n",
    "    if add_age_group and \"Age\" in df.columns:\n",
    "        df[\"Age_Group\"] = pd.cut(\n",
    "            df[\"Age\"],\n",
    "            bins=[0, 25, 40, 60, 100],\n",
    "            labels=[\"until25\", \"25-40\", \"40-60\", \"60-100\"],\n",
    "        )\n",
    "\n",
    "    if add_hr_group and \"Heart_Rate\" in df.columns:\n",
    "        df[\"Heart_Rate_Group\"] = pd.cut(\n",
    "            df[\"Heart_Rate\"],\n",
    "            bins=[0, 90, 100, 200],\n",
    "            labels=[\n",
    "                \"low\",\n",
    "                \"normal\",\n",
    "                \"high\",\n",
    "            ],\n",
    "        )\n",
    "\n",
    "    if add_duration_group and \"Duration\" in df.columns:\n",
    "        df[\"Duration_Group\"] = pd.qcut(\n",
    "            df[\"Duration\"], q=4, labels=[\"short\", \"medium\", \"long\", \"very_long\"]\n",
    "        )\n",
    "\n",
    "    return df"
   ]
  },
  {
   "cell_type": "code",
   "execution_count": 63,
   "id": "25425376",
   "metadata": {},
   "outputs": [],
   "source": [
    "df_train_feature_binning = feature_binning(df_train_preprocessed)"
   ]
  },
  {
   "cell_type": "markdown",
   "id": "744a0bb9",
   "metadata": {},
   "source": [
    "## 3.2 Feature Transformation"
   ]
  },
  {
   "cell_type": "code",
   "execution_count": 64,
   "id": "4f2b3c6d",
   "metadata": {},
   "outputs": [],
   "source": [
    "def feature_transformation(df: pd.DataFrame) -> pd.DataFrame:\n",
    "\n",
    "    df = df.copy()\n",
    "\n",
    "    if \"Body_Temp\" in df.columns:\n",
    "        df[\"Body_Temp_Deviation\"] = df[\"Body_Temp\"] - 36.5\n",
    "        df[\"Is_Fever\"] = (df[\"Body_Temp\"] >= 40.0).astype(int)\n",
    "\n",
    "    if \"Heart_Rate\" in df.columns:\n",
    "        df[\"Heart_Rate_Deviation\"] = df[\"Heart_Rate\"] - 60\n",
    "\n",
    "    if \"Duration\" in df.columns:\n",
    "        df[\"Log_Duration\"] = np.log1p(df[\"Duration\"])\n",
    "        df[\"Is_Short_Session\"] = (df[\"Duration\"] < 10).astype(int)\n",
    "\n",
    "    if \"Weight\" in df.columns:\n",
    "        df[\"Log_Weight\"] = np.log1p(df[\"Weight\"])\n",
    "\n",
    "    if \"Age\" in df.columns:\n",
    "        df[\"Log_Age\"] = np.log1p(df[\"Age\"])\n",
    "\n",
    "    return df"
   ]
  },
  {
   "cell_type": "code",
   "execution_count": 65,
   "id": "b3d3d5ef",
   "metadata": {},
   "outputs": [],
   "source": [
    "df_train_feature_transformation = feature_transformation(df_train_feature_binning)"
   ]
  },
  {
   "cell_type": "markdown",
   "id": "28ba48b4",
   "metadata": {},
   "source": [
    "## 3.3 Interactions"
   ]
  },
  {
   "cell_type": "code",
   "execution_count": 66,
   "id": "a7950946",
   "metadata": {},
   "outputs": [],
   "source": [
    "def feature_interactions(df: pd.DataFrame) -> pd.DataFrame:\n",
    "    df = df.copy()\n",
    "\n",
    "    if \"Weight\" in df.columns and \"Height\" in df.columns:\n",
    "        df[\"BMI\"] = df[\"Weight\"] / ((df[\"Height\"] / 100) ** 2)\n",
    "        df[\"Is_High_BMI\"] = (df[\"BMI\"] > 27).astype(int)\n",
    "\n",
    "    if (\n",
    "        \"Duration\" in df.columns\n",
    "        and \"Heart_Rate\" in df.columns\n",
    "        and \"Weight\" in df.columns\n",
    "    ):\n",
    "        df[\"Calories_Est\"] = df[\"Duration\"] * df[\"Heart_Rate\"] * df[\"Weight\"] / 10000\n",
    "        df[\"Log_Calories_Est\"] = np.log1p(df[\"Calories_Est\"])\n",
    "\n",
    "    if \"Duration\" in df.columns and \"Heart_Rate\" in df.columns:\n",
    "        df[\"Effort\"] = df[\"Duration\"] * df[\"Heart_Rate\"]\n",
    "        df[\"Log_Effort\"] = np.log1p(df[\"Effort\"])\n",
    "\n",
    "    if \"Heart_Rate\" in df.columns and \"Age\" in df.columns:\n",
    "        df[\"Intensity_Index\"] = df[\"Heart_Rate\"] / (220 - df[\"Age\"])\n",
    "\n",
    "    if \"Duration\" in df.columns and \"Weight\" in df.columns:\n",
    "        df[\"Effort_Per_Kg\"] = df[\"Duration\"] * df[\"Heart_Rate\"] / df[\"Weight\"]\n",
    "        df[\"Log_Effort_Per_Kg\"] = np.log1p(df[\"Effort_Per_Kg\"])\n",
    "\n",
    "    if \"Duration\" in df.columns and \"Age\" in df.columns:\n",
    "        df[\"Duration_Per_Age\"] = df[\"Duration\"] / df[\"Age\"]\n",
    "\n",
    "    return df"
   ]
  },
  {
   "cell_type": "code",
   "execution_count": 67,
   "id": "1994d332",
   "metadata": {},
   "outputs": [],
   "source": [
    "df_train_feature_interactions = feature_interactions(df_train_feature_transformation)"
   ]
  },
  {
   "cell_type": "markdown",
   "id": "af794186",
   "metadata": {},
   "source": [
    "## 3.4 MI Scores for New Features"
   ]
  },
  {
   "cell_type": "code",
   "execution_count": 68,
   "id": "c44e48b9",
   "metadata": {},
   "outputs": [
    {
     "ename": "NameError",
     "evalue": "name 'make_mi_scores' is not defined",
     "output_type": "error",
     "traceback": [
      "\u001b[0;31m---------------------------------------------------------------------------\u001b[0m",
      "\u001b[0;31mNameError\u001b[0m                                 Traceback (most recent call last)",
      "Cell \u001b[0;32mIn[68], line 4\u001b[0m\n\u001b[1;32m      1\u001b[0m X_new_mi \u001b[38;5;241m=\u001b[39m df_train_feature_interactions\u001b[38;5;241m.\u001b[39mcopy()\n\u001b[1;32m      2\u001b[0m y_new_mi \u001b[38;5;241m=\u001b[39m X_new_mi\u001b[38;5;241m.\u001b[39mpop(MI_SCORES_FEATURE_TO_ESTIMATE)\n\u001b[0;32m----> 4\u001b[0m new_mi_scores \u001b[38;5;241m=\u001b[39m \u001b[43mmake_mi_scores\u001b[49m(X_new_mi, y_new_mi, random_state\u001b[38;5;241m=\u001b[39mRANDOM_STATE)\n\u001b[1;32m      5\u001b[0m new_mi_scores\n",
      "\u001b[0;31mNameError\u001b[0m: name 'make_mi_scores' is not defined"
     ]
    }
   ],
   "source": [
    "X_new_mi = df_train_feature_interactions.copy()\n",
    "y_new_mi = X_new_mi.pop(MI_SCORES_FEATURE_TO_ESTIMATE)\n",
    "\n",
    "new_mi_scores = make_mi_scores(X_new_mi, y_new_mi, random_state=RANDOM_STATE)\n",
    "new_mi_scores"
   ]
  },
  {
   "cell_type": "code",
   "execution_count": 30,
   "id": "d1585003",
   "metadata": {},
   "outputs": [
    {
     "data": {
      "image/png": "[encoded data removed]",
      "text/plain": [
       "<Figure size 1000x600 with 1 Axes>"
      ]
     },
     "metadata": {},
     "output_type": "display_data"
    }
   ],
   "source": [
    "plot_mi_scores(new_mi_scores)"
   ]
  },
  {
   "cell_type": "markdown",
   "id": "f09844fb",
   "metadata": {},
   "source": [
    "## 3.5 Create Features"
   ]
  },
  {
   "cell_type": "code",
   "execution_count": 69,
   "id": "a8ff8692",
   "metadata": {},
   "outputs": [],
   "source": [
    "def create_features(\n",
    "    df: pd.DataFrame, drop_features_after_engineering: Union[list, tuple]\n",
    ") -> pd.DataFrame:\n",
    "\n",
    "    df = df.copy()\n",
    "\n",
    "    df = feature_binning(df)\n",
    "    df = feature_transformation(df)\n",
    "    df = feature_interactions(df)\n",
    "    \n",
    "    features_to_drop = [\n",
    "        col for col in drop_features_after_engineering if col in df.columns\n",
    "    ]\n",
    "    df.drop(columns=features_to_drop, inplace=True)\n",
    "\n",
    "    return df"
   ]
  },
  {
   "cell_type": "code",
   "execution_count": 70,
   "id": "ea387a94",
   "metadata": {},
   "outputs": [],
   "source": [
    "df_train_feature_engineering = create_features(\n",
    "    df_train_preprocessed,\n",
    "    drop_features_after_engineering=DROP_FEATURES_AFTER_ENGINEERING,\n",
    ")"
   ]
  },
  {
   "cell_type": "code",
   "execution_count": 71,
   "id": "3461161a",
   "metadata": {},
   "outputs": [
    {
     "name": "stdout",
     "output_type": "stream",
     "text": [
      "<class 'pandas.core.frame.DataFrame'>\n",
      "Index: 750000 entries, 0 to 749999\n",
      "Data columns (total 26 columns):\n",
      " #   Column                Non-Null Count   Dtype   \n",
      "---  ------                --------------   -----   \n",
      " 0   Age                   750000 non-null  int64   \n",
      " 1   Height                750000 non-null  float64 \n",
      " 2   Weight                750000 non-null  float64 \n",
      " 3   Duration              750000 non-null  float64 \n",
      " 4   Heart_Rate            750000 non-null  float64 \n",
      " 5   Body_Temp             750000 non-null  float64 \n",
      " 6   Calories              750000 non-null  float64 \n",
      " 7   Age_Group             750000 non-null  category\n",
      " 8   Heart_Rate_Group      750000 non-null  category\n",
      " 9   Duration_Group        750000 non-null  category\n",
      " 10  Body_Temp_Deviation   750000 non-null  float64 \n",
      " 11  Is_Fever              750000 non-null  int64   \n",
      " 12  Heart_Rate_Deviation  750000 non-null  float64 \n",
      " 13  Log_Duration          750000 non-null  float64 \n",
      " 14  Is_Short_Session      750000 non-null  int64   \n",
      " 15  Log_Weight            750000 non-null  float64 \n",
      " 16  Log_Age               750000 non-null  float64 \n",
      " 17  BMI                   750000 non-null  float64 \n",
      " 18  Calories_Est          750000 non-null  float64 \n",
      " 19  Log_Calories_Est      750000 non-null  float64 \n",
      " 20  Effort                750000 non-null  float64 \n",
      " 21  Log_Effort            750000 non-null  float64 \n",
      " 22  Intensity_Index       750000 non-null  float64 \n",
      " 23  Effort_Per_Kg         750000 non-null  float64 \n",
      " 24  Log_Effort_Per_Kg     750000 non-null  float64 \n",
      " 25  Duration_Per_Age      750000 non-null  float64 \n",
      "dtypes: category(3), float64(20), int64(3)\n",
      "memory usage: 139.5 MB\n"
     ]
    }
   ],
   "source": [
    "df_train_feature_engineering.info()"
   ]
  },
  {
   "cell_type": "markdown",
   "id": "ce3f18b4",
   "metadata": {},
   "source": [
    "## 3.6 Feature Engineering Report"
   ]
  },
  {
   "cell_type": "code",
   "execution_count": 34,
   "id": "bf74f883",
   "metadata": {},
   "outputs": [
    {
     "name": "stderr",
     "output_type": "stream",
     "text": [
      "100%|██████████| 26/26 [00:02<00:00, 10.27it/s]5<00:01,  9.20it/s, Describe variable: Duration_Per_Age] \n",
      "Summarize dataset:  64%|██████▍   | 305/474 [00:54<00:30,  5.62it/s, scatter Duration, Calories_Est]                    \n"
     ]
    },
    {
     "ename": "KeyboardInterrupt",
     "evalue": "",
     "output_type": "error",
     "traceback": [
      "\u001b[0;31m---------------------------------------------------------------------------\u001b[0m",
      "\u001b[0;31mKeyboardInterrupt\u001b[0m                         Traceback (most recent call last)",
      "Cell \u001b[0;32mIn[34], line 2\u001b[0m\n\u001b[1;32m      1\u001b[0m profile_report \u001b[38;5;241m=\u001b[39m ProfileReport(df_train_feature_engineering, title\u001b[38;5;241m=\u001b[39m\u001b[38;5;124m\"\u001b[39m\u001b[38;5;124mProfile Report\u001b[39m\u001b[38;5;124m\"\u001b[39m)\n\u001b[0;32m----> 2\u001b[0m \u001b[43mprofile_report\u001b[49m\u001b[38;5;241;43m.\u001b[39;49m\u001b[43mto_file\u001b[49m\u001b[43m(\u001b[49m\u001b[43mREPORTS_DIR\u001b[49m\u001b[38;5;241;43m.\u001b[39;49m\u001b[43mjoinpath\u001b[49m\u001b[43m(\u001b[49m\u001b[38;5;124;43m\"\u001b[39;49m\u001b[38;5;124;43mfeature_engineering_report.html\u001b[39;49m\u001b[38;5;124;43m\"\u001b[39;49m\u001b[43m)\u001b[49m\u001b[43m)\u001b[49m\n",
      "File \u001b[0;32m~/Projects/End to End/predict-calorie-expenditure/.venv/lib/python3.12/site-packages/ydata_profiling/profile_report.py:381\u001b[0m, in \u001b[0;36mProfileReport.to_file\u001b[0;34m(self, output_file, silent)\u001b[0m\n\u001b[1;32m    378\u001b[0m         \u001b[38;5;28mself\u001b[39m\u001b[38;5;241m.\u001b[39mconfig\u001b[38;5;241m.\u001b[39mhtml\u001b[38;5;241m.\u001b[39massets_prefix \u001b[38;5;241m=\u001b[39m \u001b[38;5;28mstr\u001b[39m(output_file\u001b[38;5;241m.\u001b[39mstem) \u001b[38;5;241m+\u001b[39m \u001b[38;5;124m\"\u001b[39m\u001b[38;5;124m_assets\u001b[39m\u001b[38;5;124m\"\u001b[39m\n\u001b[1;32m    379\u001b[0m     create_html_assets(\u001b[38;5;28mself\u001b[39m\u001b[38;5;241m.\u001b[39mconfig, output_file)\n\u001b[0;32m--> 381\u001b[0m data \u001b[38;5;241m=\u001b[39m \u001b[38;5;28;43mself\u001b[39;49m\u001b[38;5;241;43m.\u001b[39;49m\u001b[43mto_html\u001b[49m\u001b[43m(\u001b[49m\u001b[43m)\u001b[49m\n\u001b[1;32m    383\u001b[0m \u001b[38;5;28;01mif\u001b[39;00m output_file\u001b[38;5;241m.\u001b[39msuffix \u001b[38;5;241m!=\u001b[39m \u001b[38;5;124m\"\u001b[39m\u001b[38;5;124m.html\u001b[39m\u001b[38;5;124m\"\u001b[39m:\n\u001b[1;32m    384\u001b[0m     suffix \u001b[38;5;241m=\u001b[39m output_file\u001b[38;5;241m.\u001b[39msuffix\n",
      "File \u001b[0;32m~/Projects/End to End/predict-calorie-expenditure/.venv/lib/python3.12/site-packages/ydata_profiling/profile_report.py:498\u001b[0m, in \u001b[0;36mProfileReport.to_html\u001b[0;34m(self)\u001b[0m\n\u001b[1;32m    490\u001b[0m \u001b[38;5;28;01mdef\u001b[39;00m\u001b[38;5;250m \u001b[39m\u001b[38;5;21mto_html\u001b[39m(\u001b[38;5;28mself\u001b[39m) \u001b[38;5;241m-\u001b[39m\u001b[38;5;241m>\u001b[39m \u001b[38;5;28mstr\u001b[39m:\n\u001b[1;32m    491\u001b[0m \u001b[38;5;250m    \u001b[39m\u001b[38;5;124;03m\"\"\"Generate and return complete template as lengthy string\u001b[39;00m\n\u001b[1;32m    492\u001b[0m \u001b[38;5;124;03m        for using with frameworks.\u001b[39;00m\n\u001b[1;32m    493\u001b[0m \n\u001b[0;32m   (...)\u001b[0m\n\u001b[1;32m    496\u001b[0m \n\u001b[1;32m    497\u001b[0m \u001b[38;5;124;03m    \"\"\"\u001b[39;00m\n\u001b[0;32m--> 498\u001b[0m     \u001b[38;5;28;01mreturn\u001b[39;00m \u001b[38;5;28;43mself\u001b[39;49m\u001b[38;5;241;43m.\u001b[39;49m\u001b[43mhtml\u001b[49m\n",
      "File \u001b[0;32m~/Projects/End to End/predict-calorie-expenditure/.venv/lib/python3.12/site-packages/ydata_profiling/profile_report.py:294\u001b[0m, in \u001b[0;36mProfileReport.html\u001b[0;34m(self)\u001b[0m\n\u001b[1;32m    291\u001b[0m \u001b[38;5;129m@property\u001b[39m\n\u001b[1;32m    292\u001b[0m \u001b[38;5;28;01mdef\u001b[39;00m\u001b[38;5;250m \u001b[39m\u001b[38;5;21mhtml\u001b[39m(\u001b[38;5;28mself\u001b[39m) \u001b[38;5;241m-\u001b[39m\u001b[38;5;241m>\u001b[39m \u001b[38;5;28mstr\u001b[39m:\n\u001b[1;32m    293\u001b[0m     \u001b[38;5;28;01mif\u001b[39;00m \u001b[38;5;28mself\u001b[39m\u001b[38;5;241m.\u001b[39m_html \u001b[38;5;129;01mis\u001b[39;00m \u001b[38;5;28;01mNone\u001b[39;00m:\n\u001b[0;32m--> 294\u001b[0m         \u001b[38;5;28mself\u001b[39m\u001b[38;5;241m.\u001b[39m_html \u001b[38;5;241m=\u001b[39m \u001b[38;5;28;43mself\u001b[39;49m\u001b[38;5;241;43m.\u001b[39;49m\u001b[43m_render_html\u001b[49m\u001b[43m(\u001b[49m\u001b[43m)\u001b[49m\n\u001b[1;32m    295\u001b[0m     \u001b[38;5;28;01mreturn\u001b[39;00m \u001b[38;5;28mself\u001b[39m\u001b[38;5;241m.\u001b[39m_html\n",
      "File \u001b[0;32m~/Projects/End to End/predict-calorie-expenditure/.venv/lib/python3.12/site-packages/ydata_profiling/profile_report.py:411\u001b[0m, in \u001b[0;36mProfileReport._render_html\u001b[0;34m(self)\u001b[0m\n\u001b[1;32m    408\u001b[0m \u001b[38;5;28;01mdef\u001b[39;00m\u001b[38;5;250m \u001b[39m\u001b[38;5;21m_render_html\u001b[39m(\u001b[38;5;28mself\u001b[39m) \u001b[38;5;241m-\u001b[39m\u001b[38;5;241m>\u001b[39m \u001b[38;5;28mstr\u001b[39m:\n\u001b[1;32m    409\u001b[0m     \u001b[38;5;28;01mfrom\u001b[39;00m\u001b[38;5;250m \u001b[39m\u001b[38;5;21;01mydata_profiling\u001b[39;00m\u001b[38;5;21;01m.\u001b[39;00m\u001b[38;5;21;01mreport\u001b[39;00m\u001b[38;5;21;01m.\u001b[39;00m\u001b[38;5;21;01mpresentation\u001b[39;00m\u001b[38;5;21;01m.\u001b[39;00m\u001b[38;5;21;01mflavours\u001b[39;00m\u001b[38;5;250m \u001b[39m\u001b[38;5;28;01mimport\u001b[39;00m HTMLReport\n\u001b[0;32m--> 411\u001b[0m     report \u001b[38;5;241m=\u001b[39m \u001b[38;5;28;43mself\u001b[39;49m\u001b[38;5;241;43m.\u001b[39;49m\u001b[43mreport\u001b[49m\n\u001b[1;32m    413\u001b[0m     \u001b[38;5;28;01mwith\u001b[39;00m tqdm(\n\u001b[1;32m    414\u001b[0m         total\u001b[38;5;241m=\u001b[39m\u001b[38;5;241m1\u001b[39m, desc\u001b[38;5;241m=\u001b[39m\u001b[38;5;124m\"\u001b[39m\u001b[38;5;124mRender HTML\u001b[39m\u001b[38;5;124m\"\u001b[39m, disable\u001b[38;5;241m=\u001b[39m\u001b[38;5;129;01mnot\u001b[39;00m \u001b[38;5;28mself\u001b[39m\u001b[38;5;241m.\u001b[39mconfig\u001b[38;5;241m.\u001b[39mprogress_bar\n\u001b[1;32m    415\u001b[0m     ) \u001b[38;5;28;01mas\u001b[39;00m pbar:\n\u001b[1;32m    416\u001b[0m         html \u001b[38;5;241m=\u001b[39m HTMLReport(copy\u001b[38;5;241m.\u001b[39mdeepcopy(report))\u001b[38;5;241m.\u001b[39mrender(\n\u001b[1;32m    417\u001b[0m             nav\u001b[38;5;241m=\u001b[39m\u001b[38;5;28mself\u001b[39m\u001b[38;5;241m.\u001b[39mconfig\u001b[38;5;241m.\u001b[39mhtml\u001b[38;5;241m.\u001b[39mnavbar_show,\n\u001b[1;32m    418\u001b[0m             offline\u001b[38;5;241m=\u001b[39m\u001b[38;5;28mself\u001b[39m\u001b[38;5;241m.\u001b[39mconfig\u001b[38;5;241m.\u001b[39mhtml\u001b[38;5;241m.\u001b[39muse_local_assets,\n\u001b[0;32m   (...)\u001b[0m\n\u001b[1;32m    426\u001b[0m             version\u001b[38;5;241m=\u001b[39m\u001b[38;5;28mself\u001b[39m\u001b[38;5;241m.\u001b[39mdescription_set\u001b[38;5;241m.\u001b[39mpackage[\u001b[38;5;124m\"\u001b[39m\u001b[38;5;124mydata_profiling_version\u001b[39m\u001b[38;5;124m\"\u001b[39m],\n\u001b[1;32m    427\u001b[0m         )\n",
      "File \u001b[0;32m~/Projects/End to End/predict-calorie-expenditure/.venv/lib/python3.12/site-packages/ydata_profiling/profile_report.py:288\u001b[0m, in \u001b[0;36mProfileReport.report\u001b[0;34m(self)\u001b[0m\n\u001b[1;32m    285\u001b[0m \u001b[38;5;129m@property\u001b[39m\n\u001b[1;32m    286\u001b[0m \u001b[38;5;28;01mdef\u001b[39;00m\u001b[38;5;250m \u001b[39m\u001b[38;5;21mreport\u001b[39m(\u001b[38;5;28mself\u001b[39m) \u001b[38;5;241m-\u001b[39m\u001b[38;5;241m>\u001b[39m Root:\n\u001b[1;32m    287\u001b[0m     \u001b[38;5;28;01mif\u001b[39;00m \u001b[38;5;28mself\u001b[39m\u001b[38;5;241m.\u001b[39m_report \u001b[38;5;129;01mis\u001b[39;00m \u001b[38;5;28;01mNone\u001b[39;00m:\n\u001b[0;32m--> 288\u001b[0m         \u001b[38;5;28mself\u001b[39m\u001b[38;5;241m.\u001b[39m_report \u001b[38;5;241m=\u001b[39m get_report_structure(\u001b[38;5;28mself\u001b[39m\u001b[38;5;241m.\u001b[39mconfig, \u001b[38;5;28;43mself\u001b[39;49m\u001b[38;5;241;43m.\u001b[39;49m\u001b[43mdescription_set\u001b[49m)\n\u001b[1;32m    289\u001b[0m     \u001b[38;5;28;01mreturn\u001b[39;00m \u001b[38;5;28mself\u001b[39m\u001b[38;5;241m.\u001b[39m_report\n",
      "File \u001b[0;32m~/Projects/End to End/predict-calorie-expenditure/.venv/lib/python3.12/site-packages/ydata_profiling/profile_report.py:270\u001b[0m, in \u001b[0;36mProfileReport.description_set\u001b[0;34m(self)\u001b[0m\n\u001b[1;32m    267\u001b[0m \u001b[38;5;129m@property\u001b[39m\n\u001b[1;32m    268\u001b[0m \u001b[38;5;28;01mdef\u001b[39;00m\u001b[38;5;250m \u001b[39m\u001b[38;5;21mdescription_set\u001b[39m(\u001b[38;5;28mself\u001b[39m) \u001b[38;5;241m-\u001b[39m\u001b[38;5;241m>\u001b[39m BaseDescription:\n\u001b[1;32m    269\u001b[0m     \u001b[38;5;28;01mif\u001b[39;00m \u001b[38;5;28mself\u001b[39m\u001b[38;5;241m.\u001b[39m_description_set \u001b[38;5;129;01mis\u001b[39;00m \u001b[38;5;28;01mNone\u001b[39;00m:\n\u001b[0;32m--> 270\u001b[0m         \u001b[38;5;28mself\u001b[39m\u001b[38;5;241m.\u001b[39m_description_set \u001b[38;5;241m=\u001b[39m \u001b[43mdescribe_df\u001b[49m\u001b[43m(\u001b[49m\n\u001b[1;32m    271\u001b[0m \u001b[43m            \u001b[49m\u001b[38;5;28;43mself\u001b[39;49m\u001b[38;5;241;43m.\u001b[39;49m\u001b[43mconfig\u001b[49m\u001b[43m,\u001b[49m\n\u001b[1;32m    272\u001b[0m \u001b[43m            \u001b[49m\u001b[38;5;28;43mself\u001b[39;49m\u001b[38;5;241;43m.\u001b[39;49m\u001b[43mdf\u001b[49m\u001b[43m,\u001b[49m\n\u001b[1;32m    273\u001b[0m \u001b[43m            \u001b[49m\u001b[38;5;28;43mself\u001b[39;49m\u001b[38;5;241;43m.\u001b[39;49m\u001b[43msummarizer\u001b[49m\u001b[43m,\u001b[49m\n\u001b[1;32m    274\u001b[0m \u001b[43m            \u001b[49m\u001b[38;5;28;43mself\u001b[39;49m\u001b[38;5;241;43m.\u001b[39;49m\u001b[43mtypeset\u001b[49m\u001b[43m,\u001b[49m\n\u001b[1;32m    275\u001b[0m \u001b[43m            \u001b[49m\u001b[38;5;28;43mself\u001b[39;49m\u001b[38;5;241;43m.\u001b[39;49m\u001b[43m_sample\u001b[49m\u001b[43m,\u001b[49m\n\u001b[1;32m    276\u001b[0m \u001b[43m        \u001b[49m\u001b[43m)\u001b[49m\n\u001b[1;32m    277\u001b[0m     \u001b[38;5;28;01mreturn\u001b[39;00m \u001b[38;5;28mself\u001b[39m\u001b[38;5;241m.\u001b[39m_description_set\n",
      "File \u001b[0;32m~/Projects/End to End/predict-calorie-expenditure/.venv/lib/python3.12/site-packages/ydata_profiling/model/describe.py:145\u001b[0m, in \u001b[0;36mdescribe\u001b[0;34m(config, df, summarizer, typeset, sample)\u001b[0m\n\u001b[1;32m    141\u001b[0m scatter_matrix: Dict[Any, Dict[Any, Any]] \u001b[38;5;241m=\u001b[39m {\n\u001b[1;32m    142\u001b[0m     x: {y: \u001b[38;5;28;01mNone\u001b[39;00m} \u001b[38;5;28;01mfor\u001b[39;00m x, y \u001b[38;5;129;01min\u001b[39;00m scatter_tasks\n\u001b[1;32m    143\u001b[0m }\n\u001b[1;32m    144\u001b[0m \u001b[38;5;28;01mfor\u001b[39;00m x, y \u001b[38;5;129;01min\u001b[39;00m scatter_tasks:\n\u001b[0;32m--> 145\u001b[0m     scatter_matrix[x][y] \u001b[38;5;241m=\u001b[39m \u001b[43mprogress\u001b[49m\u001b[43m(\u001b[49m\n\u001b[1;32m    146\u001b[0m \u001b[43m        \u001b[49m\u001b[43mget_scatter_plot\u001b[49m\u001b[43m,\u001b[49m\u001b[43m \u001b[49m\u001b[43mpbar\u001b[49m\u001b[43m,\u001b[49m\u001b[43m \u001b[49m\u001b[38;5;124;43mf\u001b[39;49m\u001b[38;5;124;43m\"\u001b[39;49m\u001b[38;5;124;43mscatter \u001b[39;49m\u001b[38;5;132;43;01m{\u001b[39;49;00m\u001b[43mx\u001b[49m\u001b[38;5;132;43;01m}\u001b[39;49;00m\u001b[38;5;124;43m, \u001b[39;49m\u001b[38;5;132;43;01m{\u001b[39;49;00m\u001b[43my\u001b[49m\u001b[38;5;132;43;01m}\u001b[39;49;00m\u001b[38;5;124;43m\"\u001b[39;49m\n\u001b[1;32m    147\u001b[0m \u001b[43m    \u001b[49m\u001b[43m)\u001b[49m\u001b[43m(\u001b[49m\u001b[43mconfig\u001b[49m\u001b[43m,\u001b[49m\u001b[43m \u001b[49m\u001b[43mdf\u001b[49m\u001b[43m,\u001b[49m\u001b[43m \u001b[49m\u001b[43mx\u001b[49m\u001b[43m,\u001b[49m\u001b[43m \u001b[49m\u001b[43my\u001b[49m\u001b[43m,\u001b[49m\u001b[43m \u001b[49m\u001b[43minterval_columns\u001b[49m\u001b[43m)\u001b[49m\n\u001b[1;32m    149\u001b[0m \u001b[38;5;66;03m# missing diagrams\u001b[39;00m\n\u001b[1;32m    150\u001b[0m missing_map \u001b[38;5;241m=\u001b[39m get_missing_active(config, table_stats)\n",
      "File \u001b[0;32m~/Projects/End to End/predict-calorie-expenditure/.venv/lib/python3.12/site-packages/ydata_profiling/utils/progress_bar.py:11\u001b[0m, in \u001b[0;36mprogress.<locals>.inner\u001b[0;34m(*args, **kwargs)\u001b[0m\n\u001b[1;32m      8\u001b[0m \u001b[38;5;129m@wraps\u001b[39m(fn)\n\u001b[1;32m      9\u001b[0m \u001b[38;5;28;01mdef\u001b[39;00m\u001b[38;5;250m \u001b[39m\u001b[38;5;21minner\u001b[39m(\u001b[38;5;241m*\u001b[39margs, \u001b[38;5;241m*\u001b[39m\u001b[38;5;241m*\u001b[39mkwargs) \u001b[38;5;241m-\u001b[39m\u001b[38;5;241m>\u001b[39m Any:\n\u001b[1;32m     10\u001b[0m     bar\u001b[38;5;241m.\u001b[39mset_postfix_str(message)\n\u001b[0;32m---> 11\u001b[0m     ret \u001b[38;5;241m=\u001b[39m \u001b[43mfn\u001b[49m\u001b[43m(\u001b[49m\u001b[38;5;241;43m*\u001b[39;49m\u001b[43margs\u001b[49m\u001b[43m,\u001b[49m\u001b[43m \u001b[49m\u001b[38;5;241;43m*\u001b[39;49m\u001b[38;5;241;43m*\u001b[39;49m\u001b[43mkwargs\u001b[49m\u001b[43m)\u001b[49m\n\u001b[1;32m     12\u001b[0m     bar\u001b[38;5;241m.\u001b[39mupdate()\n\u001b[1;32m     13\u001b[0m     \u001b[38;5;28;01mreturn\u001b[39;00m ret\n",
      "File \u001b[0;32m~/Projects/End to End/predict-calorie-expenditure/.venv/lib/python3.12/site-packages/ydata_profiling/model/pairwise.py:31\u001b[0m, in \u001b[0;36mget_scatter_plot\u001b[0;34m(config, df, x, y, continuous_variables)\u001b[0m\n\u001b[1;32m     29\u001b[0m     \u001b[38;5;28;01melse\u001b[39;00m:\n\u001b[1;32m     30\u001b[0m         df_temp \u001b[38;5;241m=\u001b[39m df[[x, y]]\u001b[38;5;241m.\u001b[39mdropna()\n\u001b[0;32m---> 31\u001b[0m     \u001b[38;5;28;01mreturn\u001b[39;00m \u001b[43mscatter_pairwise\u001b[49m\u001b[43m(\u001b[49m\u001b[43mconfig\u001b[49m\u001b[43m,\u001b[49m\u001b[43m \u001b[49m\u001b[43mdf_temp\u001b[49m\u001b[43m[\u001b[49m\u001b[43mx\u001b[49m\u001b[43m]\u001b[49m\u001b[43m,\u001b[49m\u001b[43m \u001b[49m\u001b[43mdf_temp\u001b[49m\u001b[43m[\u001b[49m\u001b[43my\u001b[49m\u001b[43m]\u001b[49m\u001b[43m,\u001b[49m\u001b[43m \u001b[49m\u001b[43mx\u001b[49m\u001b[43m,\u001b[49m\u001b[43m \u001b[49m\u001b[43my\u001b[49m\u001b[43m)\u001b[49m\n\u001b[1;32m     32\u001b[0m \u001b[38;5;28;01melse\u001b[39;00m:\n\u001b[1;32m     33\u001b[0m     \u001b[38;5;28;01mreturn\u001b[39;00m \u001b[38;5;124m\"\u001b[39m\u001b[38;5;124m\"\u001b[39m\n",
      "File \u001b[0;32m~/anaconda3/lib/python3.12/contextlib.py:81\u001b[0m, in \u001b[0;36mContextDecorator.__call__.<locals>.inner\u001b[0;34m(*args, **kwds)\u001b[0m\n\u001b[1;32m     78\u001b[0m \u001b[38;5;129m@wraps\u001b[39m(func)\n\u001b[1;32m     79\u001b[0m \u001b[38;5;28;01mdef\u001b[39;00m\u001b[38;5;250m \u001b[39m\u001b[38;5;21minner\u001b[39m(\u001b[38;5;241m*\u001b[39margs, \u001b[38;5;241m*\u001b[39m\u001b[38;5;241m*\u001b[39mkwds):\n\u001b[1;32m     80\u001b[0m     \u001b[38;5;28;01mwith\u001b[39;00m \u001b[38;5;28mself\u001b[39m\u001b[38;5;241m.\u001b[39m_recreate_cm():\n\u001b[0;32m---> 81\u001b[0m         \u001b[38;5;28;01mreturn\u001b[39;00m \u001b[43mfunc\u001b[49m\u001b[43m(\u001b[49m\u001b[38;5;241;43m*\u001b[39;49m\u001b[43margs\u001b[49m\u001b[43m,\u001b[49m\u001b[43m \u001b[49m\u001b[38;5;241;43m*\u001b[39;49m\u001b[38;5;241;43m*\u001b[39;49m\u001b[43mkwds\u001b[49m\u001b[43m)\u001b[49m\n",
      "File \u001b[0;32m~/Projects/End to End/predict-calorie-expenditure/.venv/lib/python3.12/site-packages/ydata_profiling/visualisation/plot.py:371\u001b[0m, in \u001b[0;36mscatter_pairwise\u001b[0;34m(config, series1, series2, x_label, y_label)\u001b[0m\n\u001b[1;32m    369\u001b[0m \u001b[38;5;28;01mif\u001b[39;00m \u001b[38;5;28mlen\u001b[39m(series1) \u001b[38;5;241m>\u001b[39m config\u001b[38;5;241m.\u001b[39mplot\u001b[38;5;241m.\u001b[39mscatter_threshold:\n\u001b[1;32m    370\u001b[0m     cmap \u001b[38;5;241m=\u001b[39m sns\u001b[38;5;241m.\u001b[39mlight_palette(color, as_cmap\u001b[38;5;241m=\u001b[39m\u001b[38;5;28;01mTrue\u001b[39;00m)\n\u001b[0;32m--> 371\u001b[0m     \u001b[43mplt\u001b[49m\u001b[38;5;241;43m.\u001b[39;49m\u001b[43mhexbin\u001b[49m\u001b[43m(\u001b[49m\u001b[43mseries1\u001b[49m\u001b[43m[\u001b[49m\u001b[43mindices\u001b[49m\u001b[43m]\u001b[49m\u001b[43m,\u001b[49m\u001b[43m \u001b[49m\u001b[43mseries2\u001b[49m\u001b[43m[\u001b[49m\u001b[43mindices\u001b[49m\u001b[43m]\u001b[49m\u001b[43m,\u001b[49m\u001b[43m \u001b[49m\u001b[43mgridsize\u001b[49m\u001b[38;5;241;43m=\u001b[39;49m\u001b[38;5;241;43m15\u001b[39;49m\u001b[43m,\u001b[49m\u001b[43m \u001b[49m\u001b[43mcmap\u001b[49m\u001b[38;5;241;43m=\u001b[39;49m\u001b[43mcmap\u001b[49m\u001b[43m)\u001b[49m\n\u001b[1;32m    372\u001b[0m \u001b[38;5;28;01melse\u001b[39;00m:\n\u001b[1;32m    373\u001b[0m     plt\u001b[38;5;241m.\u001b[39mscatter(series1[indices], series2[indices], color\u001b[38;5;241m=\u001b[39mcolor)\n",
      "File \u001b[0;32m~/Projects/End to End/predict-calorie-expenditure/.venv/lib/python3.12/site-packages/matplotlib/_api/deprecation.py:453\u001b[0m, in \u001b[0;36mmake_keyword_only.<locals>.wrapper\u001b[0;34m(*args, **kwargs)\u001b[0m\n\u001b[1;32m    447\u001b[0m \u001b[38;5;28;01mif\u001b[39;00m \u001b[38;5;28mlen\u001b[39m(args) \u001b[38;5;241m>\u001b[39m name_idx:\n\u001b[1;32m    448\u001b[0m     warn_deprecated(\n\u001b[1;32m    449\u001b[0m         since, message\u001b[38;5;241m=\u001b[39m\u001b[38;5;124m\"\u001b[39m\u001b[38;5;124mPassing the \u001b[39m\u001b[38;5;132;01m%(name)s\u001b[39;00m\u001b[38;5;124m \u001b[39m\u001b[38;5;132;01m%(obj_type)s\u001b[39;00m\u001b[38;5;124m \u001b[39m\u001b[38;5;124m\"\u001b[39m\n\u001b[1;32m    450\u001b[0m         \u001b[38;5;124m\"\u001b[39m\u001b[38;5;124mpositionally is deprecated since Matplotlib \u001b[39m\u001b[38;5;132;01m%(since)s\u001b[39;00m\u001b[38;5;124m; the \u001b[39m\u001b[38;5;124m\"\u001b[39m\n\u001b[1;32m    451\u001b[0m         \u001b[38;5;124m\"\u001b[39m\u001b[38;5;124mparameter will become keyword-only in \u001b[39m\u001b[38;5;132;01m%(removal)s\u001b[39;00m\u001b[38;5;124m.\u001b[39m\u001b[38;5;124m\"\u001b[39m,\n\u001b[1;32m    452\u001b[0m         name\u001b[38;5;241m=\u001b[39mname, obj_type\u001b[38;5;241m=\u001b[39m\u001b[38;5;124mf\u001b[39m\u001b[38;5;124m\"\u001b[39m\u001b[38;5;124mparameter of \u001b[39m\u001b[38;5;132;01m{\u001b[39;00mfunc\u001b[38;5;241m.\u001b[39m\u001b[38;5;18m__name__\u001b[39m\u001b[38;5;132;01m}\u001b[39;00m\u001b[38;5;124m()\u001b[39m\u001b[38;5;124m\"\u001b[39m)\n\u001b[0;32m--> 453\u001b[0m \u001b[38;5;28;01mreturn\u001b[39;00m \u001b[43mfunc\u001b[49m\u001b[43m(\u001b[49m\u001b[38;5;241;43m*\u001b[39;49m\u001b[43margs\u001b[49m\u001b[43m,\u001b[49m\u001b[43m \u001b[49m\u001b[38;5;241;43m*\u001b[39;49m\u001b[38;5;241;43m*\u001b[39;49m\u001b[43mkwargs\u001b[49m\u001b[43m)\u001b[49m\n",
      "File \u001b[0;32m~/Projects/End to End/predict-calorie-expenditure/.venv/lib/python3.12/site-packages/matplotlib/pyplot.py:3416\u001b[0m, in \u001b[0;36mhexbin\u001b[0;34m(x, y, C, gridsize, bins, xscale, yscale, extent, cmap, norm, vmin, vmax, alpha, linewidths, edgecolors, reduce_C_function, mincnt, marginals, colorizer, data, **kwargs)\u001b[0m\n\u001b[1;32m   3391\u001b[0m \u001b[38;5;129m@_copy_docstring_and_deprecators\u001b[39m(Axes\u001b[38;5;241m.\u001b[39mhexbin)\n\u001b[1;32m   3392\u001b[0m \u001b[38;5;28;01mdef\u001b[39;00m\u001b[38;5;250m \u001b[39m\u001b[38;5;21mhexbin\u001b[39m(\n\u001b[1;32m   3393\u001b[0m     x: ArrayLike,\n\u001b[0;32m   (...)\u001b[0m\n\u001b[1;32m   3414\u001b[0m     \u001b[38;5;241m*\u001b[39m\u001b[38;5;241m*\u001b[39mkwargs,\n\u001b[1;32m   3415\u001b[0m ) \u001b[38;5;241m-\u001b[39m\u001b[38;5;241m>\u001b[39m PolyCollection:\n\u001b[0;32m-> 3416\u001b[0m     __ret \u001b[38;5;241m=\u001b[39m \u001b[43mgca\u001b[49m\u001b[43m(\u001b[49m\u001b[43m)\u001b[49m\u001b[38;5;241;43m.\u001b[39;49m\u001b[43mhexbin\u001b[49m\u001b[43m(\u001b[49m\n\u001b[1;32m   3417\u001b[0m \u001b[43m        \u001b[49m\u001b[43mx\u001b[49m\u001b[43m,\u001b[49m\n\u001b[1;32m   3418\u001b[0m \u001b[43m        \u001b[49m\u001b[43my\u001b[49m\u001b[43m,\u001b[49m\n\u001b[1;32m   3419\u001b[0m \u001b[43m        \u001b[49m\u001b[43mC\u001b[49m\u001b[38;5;241;43m=\u001b[39;49m\u001b[43mC\u001b[49m\u001b[43m,\u001b[49m\n\u001b[1;32m   3420\u001b[0m \u001b[43m        \u001b[49m\u001b[43mgridsize\u001b[49m\u001b[38;5;241;43m=\u001b[39;49m\u001b[43mgridsize\u001b[49m\u001b[43m,\u001b[49m\n\u001b[1;32m   3421\u001b[0m \u001b[43m        \u001b[49m\u001b[43mbins\u001b[49m\u001b[38;5;241;43m=\u001b[39;49m\u001b[43mbins\u001b[49m\u001b[43m,\u001b[49m\n\u001b[1;32m   3422\u001b[0m \u001b[43m        \u001b[49m\u001b[43mxscale\u001b[49m\u001b[38;5;241;43m=\u001b[39;49m\u001b[43mxscale\u001b[49m\u001b[43m,\u001b[49m\n\u001b[1;32m   3423\u001b[0m \u001b[43m        \u001b[49m\u001b[43myscale\u001b[49m\u001b[38;5;241;43m=\u001b[39;49m\u001b[43myscale\u001b[49m\u001b[43m,\u001b[49m\n\u001b[1;32m   3424\u001b[0m \u001b[43m        \u001b[49m\u001b[43mextent\u001b[49m\u001b[38;5;241;43m=\u001b[39;49m\u001b[43mextent\u001b[49m\u001b[43m,\u001b[49m\n\u001b[1;32m   3425\u001b[0m \u001b[43m        \u001b[49m\u001b[43mcmap\u001b[49m\u001b[38;5;241;43m=\u001b[39;49m\u001b[43mcmap\u001b[49m\u001b[43m,\u001b[49m\n\u001b[1;32m   3426\u001b[0m \u001b[43m        \u001b[49m\u001b[43mnorm\u001b[49m\u001b[38;5;241;43m=\u001b[39;49m\u001b[43mnorm\u001b[49m\u001b[43m,\u001b[49m\n\u001b[1;32m   3427\u001b[0m \u001b[43m        \u001b[49m\u001b[43mvmin\u001b[49m\u001b[38;5;241;43m=\u001b[39;49m\u001b[43mvmin\u001b[49m\u001b[43m,\u001b[49m\n\u001b[1;32m   3428\u001b[0m \u001b[43m        \u001b[49m\u001b[43mvmax\u001b[49m\u001b[38;5;241;43m=\u001b[39;49m\u001b[43mvmax\u001b[49m\u001b[43m,\u001b[49m\n\u001b[1;32m   3429\u001b[0m \u001b[43m        \u001b[49m\u001b[43malpha\u001b[49m\u001b[38;5;241;43m=\u001b[39;49m\u001b[43malpha\u001b[49m\u001b[43m,\u001b[49m\n\u001b[1;32m   3430\u001b[0m \u001b[43m        \u001b[49m\u001b[43mlinewidths\u001b[49m\u001b[38;5;241;43m=\u001b[39;49m\u001b[43mlinewidths\u001b[49m\u001b[43m,\u001b[49m\n\u001b[1;32m   3431\u001b[0m \u001b[43m        \u001b[49m\u001b[43medgecolors\u001b[49m\u001b[38;5;241;43m=\u001b[39;49m\u001b[43medgecolors\u001b[49m\u001b[43m,\u001b[49m\n\u001b[1;32m   3432\u001b[0m \u001b[43m        \u001b[49m\u001b[43mreduce_C_function\u001b[49m\u001b[38;5;241;43m=\u001b[39;49m\u001b[43mreduce_C_function\u001b[49m\u001b[43m,\u001b[49m\n\u001b[1;32m   3433\u001b[0m \u001b[43m        \u001b[49m\u001b[43mmincnt\u001b[49m\u001b[38;5;241;43m=\u001b[39;49m\u001b[43mmincnt\u001b[49m\u001b[43m,\u001b[49m\n\u001b[1;32m   3434\u001b[0m \u001b[43m        \u001b[49m\u001b[43mmarginals\u001b[49m\u001b[38;5;241;43m=\u001b[39;49m\u001b[43mmarginals\u001b[49m\u001b[43m,\u001b[49m\n\u001b[1;32m   3435\u001b[0m \u001b[43m        \u001b[49m\u001b[43mcolorizer\u001b[49m\u001b[38;5;241;43m=\u001b[39;49m\u001b[43mcolorizer\u001b[49m\u001b[43m,\u001b[49m\n\u001b[1;32m   3436\u001b[0m \u001b[43m        \u001b[49m\u001b[38;5;241;43m*\u001b[39;49m\u001b[38;5;241;43m*\u001b[39;49m\u001b[43m(\u001b[49m\u001b[43m{\u001b[49m\u001b[38;5;124;43m\"\u001b[39;49m\u001b[38;5;124;43mdata\u001b[39;49m\u001b[38;5;124;43m\"\u001b[39;49m\u001b[43m:\u001b[49m\u001b[43m \u001b[49m\u001b[43mdata\u001b[49m\u001b[43m}\u001b[49m\u001b[43m \u001b[49m\u001b[38;5;28;43;01mif\u001b[39;49;00m\u001b[43m \u001b[49m\u001b[43mdata\u001b[49m\u001b[43m \u001b[49m\u001b[38;5;129;43;01mis\u001b[39;49;00m\u001b[43m \u001b[49m\u001b[38;5;129;43;01mnot\u001b[39;49;00m\u001b[43m \u001b[49m\u001b[38;5;28;43;01mNone\u001b[39;49;00m\u001b[43m \u001b[49m\u001b[38;5;28;43;01melse\u001b[39;49;00m\u001b[43m \u001b[49m\u001b[43m{\u001b[49m\u001b[43m}\u001b[49m\u001b[43m)\u001b[49m\u001b[43m,\u001b[49m\n\u001b[1;32m   3437\u001b[0m \u001b[43m        \u001b[49m\u001b[38;5;241;43m*\u001b[39;49m\u001b[38;5;241;43m*\u001b[39;49m\u001b[43mkwargs\u001b[49m\u001b[43m,\u001b[49m\n\u001b[1;32m   3438\u001b[0m \u001b[43m    \u001b[49m\u001b[43m)\u001b[49m\n\u001b[1;32m   3439\u001b[0m     sci(__ret)\n\u001b[1;32m   3440\u001b[0m     \u001b[38;5;28;01mreturn\u001b[39;00m __ret\n",
      "File \u001b[0;32m~/Projects/End to End/predict-calorie-expenditure/.venv/lib/python3.12/site-packages/matplotlib/_api/deprecation.py:453\u001b[0m, in \u001b[0;36mmake_keyword_only.<locals>.wrapper\u001b[0;34m(*args, **kwargs)\u001b[0m\n\u001b[1;32m    447\u001b[0m \u001b[38;5;28;01mif\u001b[39;00m \u001b[38;5;28mlen\u001b[39m(args) \u001b[38;5;241m>\u001b[39m name_idx:\n\u001b[1;32m    448\u001b[0m     warn_deprecated(\n\u001b[1;32m    449\u001b[0m         since, message\u001b[38;5;241m=\u001b[39m\u001b[38;5;124m\"\u001b[39m\u001b[38;5;124mPassing the \u001b[39m\u001b[38;5;132;01m%(name)s\u001b[39;00m\u001b[38;5;124m \u001b[39m\u001b[38;5;132;01m%(obj_type)s\u001b[39;00m\u001b[38;5;124m \u001b[39m\u001b[38;5;124m\"\u001b[39m\n\u001b[1;32m    450\u001b[0m         \u001b[38;5;124m\"\u001b[39m\u001b[38;5;124mpositionally is deprecated since Matplotlib \u001b[39m\u001b[38;5;132;01m%(since)s\u001b[39;00m\u001b[38;5;124m; the \u001b[39m\u001b[38;5;124m\"\u001b[39m\n\u001b[1;32m    451\u001b[0m         \u001b[38;5;124m\"\u001b[39m\u001b[38;5;124mparameter will become keyword-only in \u001b[39m\u001b[38;5;132;01m%(removal)s\u001b[39;00m\u001b[38;5;124m.\u001b[39m\u001b[38;5;124m\"\u001b[39m,\n\u001b[1;32m    452\u001b[0m         name\u001b[38;5;241m=\u001b[39mname, obj_type\u001b[38;5;241m=\u001b[39m\u001b[38;5;124mf\u001b[39m\u001b[38;5;124m\"\u001b[39m\u001b[38;5;124mparameter of \u001b[39m\u001b[38;5;132;01m{\u001b[39;00mfunc\u001b[38;5;241m.\u001b[39m\u001b[38;5;18m__name__\u001b[39m\u001b[38;5;132;01m}\u001b[39;00m\u001b[38;5;124m()\u001b[39m\u001b[38;5;124m\"\u001b[39m)\n\u001b[0;32m--> 453\u001b[0m \u001b[38;5;28;01mreturn\u001b[39;00m \u001b[43mfunc\u001b[49m\u001b[43m(\u001b[49m\u001b[38;5;241;43m*\u001b[39;49m\u001b[43margs\u001b[49m\u001b[43m,\u001b[49m\u001b[43m \u001b[49m\u001b[38;5;241;43m*\u001b[39;49m\u001b[38;5;241;43m*\u001b[39;49m\u001b[43mkwargs\u001b[49m\u001b[43m)\u001b[49m\n",
      "File \u001b[0;32m~/Projects/End to End/predict-calorie-expenditure/.venv/lib/python3.12/site-packages/matplotlib/__init__.py:1521\u001b[0m, in \u001b[0;36m_preprocess_data.<locals>.inner\u001b[0;34m(ax, data, *args, **kwargs)\u001b[0m\n\u001b[1;32m   1518\u001b[0m \u001b[38;5;129m@functools\u001b[39m\u001b[38;5;241m.\u001b[39mwraps(func)\n\u001b[1;32m   1519\u001b[0m \u001b[38;5;28;01mdef\u001b[39;00m\u001b[38;5;250m \u001b[39m\u001b[38;5;21minner\u001b[39m(ax, \u001b[38;5;241m*\u001b[39margs, data\u001b[38;5;241m=\u001b[39m\u001b[38;5;28;01mNone\u001b[39;00m, \u001b[38;5;241m*\u001b[39m\u001b[38;5;241m*\u001b[39mkwargs):\n\u001b[1;32m   1520\u001b[0m     \u001b[38;5;28;01mif\u001b[39;00m data \u001b[38;5;129;01mis\u001b[39;00m \u001b[38;5;28;01mNone\u001b[39;00m:\n\u001b[0;32m-> 1521\u001b[0m         \u001b[38;5;28;01mreturn\u001b[39;00m \u001b[43mfunc\u001b[49m\u001b[43m(\u001b[49m\n\u001b[1;32m   1522\u001b[0m \u001b[43m            \u001b[49m\u001b[43max\u001b[49m\u001b[43m,\u001b[49m\n\u001b[1;32m   1523\u001b[0m \u001b[43m            \u001b[49m\u001b[38;5;241;43m*\u001b[39;49m\u001b[38;5;28;43mmap\u001b[39;49m\u001b[43m(\u001b[49m\u001b[43mcbook\u001b[49m\u001b[38;5;241;43m.\u001b[39;49m\u001b[43msanitize_sequence\u001b[49m\u001b[43m,\u001b[49m\u001b[43m \u001b[49m\u001b[43margs\u001b[49m\u001b[43m)\u001b[49m\u001b[43m,\u001b[49m\n\u001b[1;32m   1524\u001b[0m \u001b[43m            \u001b[49m\u001b[38;5;241;43m*\u001b[39;49m\u001b[38;5;241;43m*\u001b[39;49m\u001b[43m{\u001b[49m\u001b[43mk\u001b[49m\u001b[43m:\u001b[49m\u001b[43m \u001b[49m\u001b[43mcbook\u001b[49m\u001b[38;5;241;43m.\u001b[39;49m\u001b[43msanitize_sequence\u001b[49m\u001b[43m(\u001b[49m\u001b[43mv\u001b[49m\u001b[43m)\u001b[49m\u001b[43m \u001b[49m\u001b[38;5;28;43;01mfor\u001b[39;49;00m\u001b[43m \u001b[49m\u001b[43mk\u001b[49m\u001b[43m,\u001b[49m\u001b[43m \u001b[49m\u001b[43mv\u001b[49m\u001b[43m \u001b[49m\u001b[38;5;129;43;01min\u001b[39;49;00m\u001b[43m \u001b[49m\u001b[43mkwargs\u001b[49m\u001b[38;5;241;43m.\u001b[39;49m\u001b[43mitems\u001b[49m\u001b[43m(\u001b[49m\u001b[43m)\u001b[49m\u001b[43m}\u001b[49m\u001b[43m)\u001b[49m\n\u001b[1;32m   1526\u001b[0m     bound \u001b[38;5;241m=\u001b[39m new_sig\u001b[38;5;241m.\u001b[39mbind(ax, \u001b[38;5;241m*\u001b[39margs, \u001b[38;5;241m*\u001b[39m\u001b[38;5;241m*\u001b[39mkwargs)\n\u001b[1;32m   1527\u001b[0m     auto_label \u001b[38;5;241m=\u001b[39m (bound\u001b[38;5;241m.\u001b[39marguments\u001b[38;5;241m.\u001b[39mget(label_namer)\n\u001b[1;32m   1528\u001b[0m                   \u001b[38;5;129;01mor\u001b[39;00m bound\u001b[38;5;241m.\u001b[39mkwargs\u001b[38;5;241m.\u001b[39mget(label_namer))\n",
      "File \u001b[0;32m~/Projects/End to End/predict-calorie-expenditure/.venv/lib/python3.12/site-packages/matplotlib/axes/_axes.py:5261\u001b[0m, in \u001b[0;36mAxes.hexbin\u001b[0;34m(self, x, y, C, gridsize, bins, xscale, yscale, extent, cmap, norm, vmin, vmax, alpha, linewidths, edgecolors, reduce_C_function, mincnt, marginals, colorizer, **kwargs)\u001b[0m\n\u001b[1;32m   5259\u001b[0m iy \u001b[38;5;241m=\u001b[39m (ty \u001b[38;5;241m-\u001b[39m ymin) \u001b[38;5;241m/\u001b[39m sy\n\u001b[1;32m   5260\u001b[0m ix1 \u001b[38;5;241m=\u001b[39m np\u001b[38;5;241m.\u001b[39mround(ix)\u001b[38;5;241m.\u001b[39mastype(\u001b[38;5;28mint\u001b[39m)\n\u001b[0;32m-> 5261\u001b[0m iy1 \u001b[38;5;241m=\u001b[39m \u001b[43mnp\u001b[49m\u001b[38;5;241;43m.\u001b[39;49m\u001b[43mround\u001b[49m\u001b[43m(\u001b[49m\u001b[43miy\u001b[49m\u001b[43m)\u001b[49m\u001b[38;5;241;43m.\u001b[39;49m\u001b[43mastype\u001b[49m\u001b[43m(\u001b[49m\u001b[38;5;28;43mint\u001b[39;49m\u001b[43m)\u001b[49m\n\u001b[1;32m   5262\u001b[0m ix2 \u001b[38;5;241m=\u001b[39m np\u001b[38;5;241m.\u001b[39mfloor(ix)\u001b[38;5;241m.\u001b[39mastype(\u001b[38;5;28mint\u001b[39m)\n\u001b[1;32m   5263\u001b[0m iy2 \u001b[38;5;241m=\u001b[39m np\u001b[38;5;241m.\u001b[39mfloor(iy)\u001b[38;5;241m.\u001b[39mastype(\u001b[38;5;28mint\u001b[39m)\n",
      "\u001b[0;31mKeyboardInterrupt\u001b[0m: "
     ]
    },
    {
     "data": {
      "image/png": "[encoded data removed]",
      "text/plain": [
       "<Figure size 800x550 with 1 Axes>"
      ]
     },
     "metadata": {},
     "output_type": "display_data"
    }
   ],
   "source": [
    "profile_report = ProfileReport(df_train_feature_engineering, title=\"Profile Report\")\n",
    "profile_report.to_file(REPORTS_DIR.joinpath(\"feature_engineering_report.html\"))"
   ]
  },
  {
   "cell_type": "markdown",
   "id": "a31cb60e",
   "metadata": {},
   "source": [
    "## 4 Summary"
   ]
  },
  {
   "cell_type": "markdown",
   "id": "9b2d00be",
   "metadata": {},
   "source": [
    "## 4.1 Process Data"
   ]
  },
  {
   "cell_type": "code",
   "execution_count": 74,
   "id": "6c5d01bf",
   "metadata": {},
   "outputs": [],
   "source": [
    "def process_data(\n",
    "    path: Union[str, Path],\n",
    "    features_cat: List[str] | None = None,\n",
    "    features_date: List[str] | None = None,\n",
    "    feature_ord_levels: Dict[str, List[str]] | None = None,\n",
    "    drop_features_after_engineering: List[str] | None = None,\n",
    "    is_test: bool = False,\n",
    ") -> pd.DataFrame:\n",
    "\n",
    "    df = preprocess_data(\n",
    "        path,\n",
    "        features_cat=features_cat,\n",
    "        features_date=features_date,\n",
    "        feature_ord_levels=feature_ord_levels,\n",
    "    )\n",
    "    df = create_features(\n",
    "        df=df, drop_features_after_engineering=drop_features_after_engineering\n",
    "    )\n",
    "    \n",
    "    if not is_test:\n",
    "        df = df.drop_duplicates()\n",
    "    \n",
    "    return df"
   ]
  },
  {
   "cell_type": "code",
   "execution_count": 75,
   "id": "78206359",
   "metadata": {},
   "outputs": [],
   "source": [
    "df_train_processed = process_data(\n",
    "    RAW_TRAIN_PATH,\n",
    "    features_cat=FEATURES_CAT,\n",
    "    drop_features_after_engineering=DROP_FEATURES_AFTER_ENGINEERING,\n",
    ")"
   ]
  },
  {
   "cell_type": "code",
   "execution_count": 76,
   "id": "0af5b387",
   "metadata": {},
   "outputs": [],
   "source": [
    "df_test_processed = process_data(\n",
    "    RAW_TEST_PATH,\n",
    "    features_cat=FEATURES_CAT,\n",
    "    drop_features_after_engineering=DROP_FEATURES_AFTER_ENGINEERING,\n",
    "    is_test=True,\n",
    ")"
   ]
  },
  {
   "cell_type": "markdown",
   "id": "74536ca2",
   "metadata": {},
   "source": [
    "## 4.2 Save Final Data"
   ]
  },
  {
   "cell_type": "code",
   "execution_count": 79,
   "id": "1980e1ad",
   "metadata": {},
   "outputs": [],
   "source": [
    "df_train_processed.to_csv(FINAL_TRAIN_PATH)\n",
    "df_test_processed.to_csv(FINAL_TEST_PATH)"
   ]
  }
 ],
 "metadata": {
  "kernelspec": {
   "display_name": ".venv",
   "language": "python",
   "name": "python3"
  },
  "language_info": {
   "codemirror_mode": {
    "name": "ipython",
    "version": 3
   },
   "file_extension": ".py",
   "mimetype": "text/x-python",
   "name": "python",
   "nbconvert_exporter": "python",
   "pygments_lexer": "ipython3",
   "version": "3.12.7"
  }
 },
 "nbformat": 4,
 "nbformat_minor": 5
}
