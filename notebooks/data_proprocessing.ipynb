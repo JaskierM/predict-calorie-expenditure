{
 "cells": [
  {
   "cell_type": "markdown",
   "id": "d4cf411f",
   "metadata": {},
   "source": [
    "## 1 Preliminaries"
   ]
  },
  {
   "cell_type": "markdown",
   "id": "a3ce710e",
   "metadata": {},
   "source": [
    "## 1.1 Imports and Configurations"
   ]
  },
  {
   "cell_type": "markdown",
   "id": "d4307b24",
   "metadata": {},
   "source": [
    "### Imports"
   ]
  },
  {
   "cell_type": "code",
   "execution_count": 1,
   "id": "832b2527",
   "metadata": {},
   "outputs": [
    {
     "name": "stderr",
     "output_type": "stream",
     "text": [
      "/home/jaskier/Projects/End to End/predict-calorie-expenditure/.venv/lib/python3.12/site-packages/tqdm/auto.py:21: TqdmWarning: IProgress not found. Please update jupyter and ipywidgets. See https://ipywidgets.readthedocs.io/en/stable/user_install.html\n",
      "  from .autonotebook import tqdm as notebook_tqdm\n"
     ]
    },
    {
     "data": {
      "text/html": [
       "\n",
       "            <div>\n",
       "                <ins><a href=\"https://ydata.ai/register\">Upgrade to ydata-sdk</a></ins>\n",
       "                <p>\n",
       "                    Improve your data and profiling with ydata-sdk, featuring data quality scoring, redundancy detection, outlier identification, text validation, and synthetic data generation.\n",
       "                </p>\n",
       "            </div>\n",
       "            "
      ],
      "text/plain": [
       "<IPython.core.display.HTML object>"
      ]
     },
     "metadata": {},
     "output_type": "display_data"
    }
   ],
   "source": [
    "import random\n",
    "import numpy as np\n",
    "import pandas as pd\n",
    "import matplotlib.pyplot as plt\n",
    "\n",
    "from pathlib import Path\n",
    "from pandas.api.types import CategoricalDtype\n",
    "from typing import List, Dict, Optional, Union\n",
    "from sklearn.feature_selection import mutual_info_regression\n",
    "from ydata_profiling import ProfileReport"
   ]
  },
  {
   "cell_type": "markdown",
   "id": "a94d8ca1",
   "metadata": {},
   "source": [
    "### Constants"
   ]
  },
  {
   "cell_type": "code",
   "execution_count": 2,
   "id": "6192fcd1",
   "metadata": {},
   "outputs": [],
   "source": [
    "# 1 Preliminaries\n",
    "\n",
    "RANDOM_STATE = 42\n",
    "\n",
    "RAW_TRAIN_PATH = Path(\"../data/raw/train.csv\")\n",
    "RAW_TEST_PATH = Path(\"../data/raw/test.csv\")\n",
    "\n",
    "FEATURES_CAT = [\"Sex\"]\n",
    "\n",
    "# 2 Feature Utility Scores\n",
    "\n",
    "MI_SCORES_FEATURE_TO_ESTIMATE = \"Calories\"\n",
    "\n",
    "# 3 Feature Engineering\n",
    "\n",
    "DROP_FEATURES_AFTER_ENGINEERING = (\n",
    "    \"Is_High_BMI\",\n",
    "    \"Is_Young\",\n",
    "    \"Sex\",\n",
    "    \"Age_Group\",\n",
    ")\n",
    "\n",
    "REPORTS_DIR = Path(\"../reports/\")\n",
    "REPORTS_DIR.mkdir(exist_ok=True)"
   ]
  },
  {
   "cell_type": "markdown",
   "id": "4c9332ec",
   "metadata": {},
   "source": [
    "### Configs"
   ]
  },
  {
   "cell_type": "code",
   "execution_count": 3,
   "id": "f1707e64",
   "metadata": {},
   "outputs": [],
   "source": [
    "random.seed(RANDOM_STATE)\n",
    "np.random.seed(RANDOM_STATE)"
   ]
  },
  {
   "cell_type": "markdown",
   "id": "169e681f",
   "metadata": {},
   "source": [
    "## 1.2 Data Preprocessing"
   ]
  },
  {
   "cell_type": "markdown",
   "id": "8ba21967",
   "metadata": {},
   "source": [
    "### Read"
   ]
  },
  {
   "cell_type": "code",
   "execution_count": 4,
   "id": "9696236d",
   "metadata": {},
   "outputs": [],
   "source": [
    "def read_data(path: Union[str, Path]) -> pd.DataFrame:\n",
    "    df = pd.read_csv(path, index_col=0)\n",
    "    return df"
   ]
  },
  {
   "cell_type": "code",
   "execution_count": 5,
   "id": "ef113009",
   "metadata": {},
   "outputs": [
    {
     "data": {
      "text/html": [
       "<div>\n",
       "<style scoped>\n",
       "    .dataframe tbody tr th:only-of-type {\n",
       "        vertical-align: middle;\n",
       "    }\n",
       "\n",
       "    .dataframe tbody tr th {\n",
       "        vertical-align: top;\n",
       "    }\n",
       "\n",
       "    .dataframe thead th {\n",
       "        text-align: right;\n",
       "    }\n",
       "</style>\n",
       "<table border=\"1\" class=\"dataframe\">\n",
       "  <thead>\n",
       "    <tr style=\"text-align: right;\">\n",
       "      <th></th>\n",
       "      <th>Sex</th>\n",
       "      <th>Age</th>\n",
       "      <th>Height</th>\n",
       "      <th>Weight</th>\n",
       "      <th>Duration</th>\n",
       "      <th>Heart_Rate</th>\n",
       "      <th>Body_Temp</th>\n",
       "      <th>Calories</th>\n",
       "    </tr>\n",
       "    <tr>\n",
       "      <th>id</th>\n",
       "      <th></th>\n",
       "      <th></th>\n",
       "      <th></th>\n",
       "      <th></th>\n",
       "      <th></th>\n",
       "      <th></th>\n",
       "      <th></th>\n",
       "      <th></th>\n",
       "    </tr>\n",
       "  </thead>\n",
       "  <tbody>\n",
       "    <tr>\n",
       "      <th>0</th>\n",
       "      <td>male</td>\n",
       "      <td>36</td>\n",
       "      <td>189.0</td>\n",
       "      <td>82.0</td>\n",
       "      <td>26.0</td>\n",
       "      <td>101.0</td>\n",
       "      <td>41.0</td>\n",
       "      <td>150.0</td>\n",
       "    </tr>\n",
       "    <tr>\n",
       "      <th>1</th>\n",
       "      <td>female</td>\n",
       "      <td>64</td>\n",
       "      <td>163.0</td>\n",
       "      <td>60.0</td>\n",
       "      <td>8.0</td>\n",
       "      <td>85.0</td>\n",
       "      <td>39.7</td>\n",
       "      <td>34.0</td>\n",
       "    </tr>\n",
       "    <tr>\n",
       "      <th>2</th>\n",
       "      <td>female</td>\n",
       "      <td>51</td>\n",
       "      <td>161.0</td>\n",
       "      <td>64.0</td>\n",
       "      <td>7.0</td>\n",
       "      <td>84.0</td>\n",
       "      <td>39.8</td>\n",
       "      <td>29.0</td>\n",
       "    </tr>\n",
       "    <tr>\n",
       "      <th>3</th>\n",
       "      <td>male</td>\n",
       "      <td>20</td>\n",
       "      <td>192.0</td>\n",
       "      <td>90.0</td>\n",
       "      <td>25.0</td>\n",
       "      <td>105.0</td>\n",
       "      <td>40.7</td>\n",
       "      <td>140.0</td>\n",
       "    </tr>\n",
       "    <tr>\n",
       "      <th>4</th>\n",
       "      <td>female</td>\n",
       "      <td>38</td>\n",
       "      <td>166.0</td>\n",
       "      <td>61.0</td>\n",
       "      <td>25.0</td>\n",
       "      <td>102.0</td>\n",
       "      <td>40.6</td>\n",
       "      <td>146.0</td>\n",
       "    </tr>\n",
       "    <tr>\n",
       "      <th>...</th>\n",
       "      <td>...</td>\n",
       "      <td>...</td>\n",
       "      <td>...</td>\n",
       "      <td>...</td>\n",
       "      <td>...</td>\n",
       "      <td>...</td>\n",
       "      <td>...</td>\n",
       "      <td>...</td>\n",
       "    </tr>\n",
       "    <tr>\n",
       "      <th>749995</th>\n",
       "      <td>male</td>\n",
       "      <td>28</td>\n",
       "      <td>193.0</td>\n",
       "      <td>97.0</td>\n",
       "      <td>30.0</td>\n",
       "      <td>114.0</td>\n",
       "      <td>40.9</td>\n",
       "      <td>230.0</td>\n",
       "    </tr>\n",
       "    <tr>\n",
       "      <th>749996</th>\n",
       "      <td>female</td>\n",
       "      <td>64</td>\n",
       "      <td>165.0</td>\n",
       "      <td>63.0</td>\n",
       "      <td>18.0</td>\n",
       "      <td>92.0</td>\n",
       "      <td>40.5</td>\n",
       "      <td>96.0</td>\n",
       "    </tr>\n",
       "    <tr>\n",
       "      <th>749997</th>\n",
       "      <td>male</td>\n",
       "      <td>60</td>\n",
       "      <td>162.0</td>\n",
       "      <td>67.0</td>\n",
       "      <td>29.0</td>\n",
       "      <td>113.0</td>\n",
       "      <td>40.9</td>\n",
       "      <td>221.0</td>\n",
       "    </tr>\n",
       "    <tr>\n",
       "      <th>749998</th>\n",
       "      <td>male</td>\n",
       "      <td>45</td>\n",
       "      <td>182.0</td>\n",
       "      <td>91.0</td>\n",
       "      <td>17.0</td>\n",
       "      <td>102.0</td>\n",
       "      <td>40.3</td>\n",
       "      <td>109.0</td>\n",
       "    </tr>\n",
       "    <tr>\n",
       "      <th>749999</th>\n",
       "      <td>female</td>\n",
       "      <td>39</td>\n",
       "      <td>171.0</td>\n",
       "      <td>65.0</td>\n",
       "      <td>19.0</td>\n",
       "      <td>97.0</td>\n",
       "      <td>40.6</td>\n",
       "      <td>103.0</td>\n",
       "    </tr>\n",
       "  </tbody>\n",
       "</table>\n",
       "<p>750000 rows × 8 columns</p>\n",
       "</div>"
      ],
      "text/plain": [
       "           Sex  Age  Height  Weight  Duration  Heart_Rate  Body_Temp  Calories\n",
       "id                                                                            \n",
       "0         male   36   189.0    82.0      26.0       101.0       41.0     150.0\n",
       "1       female   64   163.0    60.0       8.0        85.0       39.7      34.0\n",
       "2       female   51   161.0    64.0       7.0        84.0       39.8      29.0\n",
       "3         male   20   192.0    90.0      25.0       105.0       40.7     140.0\n",
       "4       female   38   166.0    61.0      25.0       102.0       40.6     146.0\n",
       "...        ...  ...     ...     ...       ...         ...        ...       ...\n",
       "749995    male   28   193.0    97.0      30.0       114.0       40.9     230.0\n",
       "749996  female   64   165.0    63.0      18.0        92.0       40.5      96.0\n",
       "749997    male   60   162.0    67.0      29.0       113.0       40.9     221.0\n",
       "749998    male   45   182.0    91.0      17.0       102.0       40.3     109.0\n",
       "749999  female   39   171.0    65.0      19.0        97.0       40.6     103.0\n",
       "\n",
       "[750000 rows x 8 columns]"
      ]
     },
     "execution_count": 5,
     "metadata": {},
     "output_type": "execute_result"
    }
   ],
   "source": [
    "df_train = read_data(RAW_TRAIN_PATH)\n",
    "df_train"
   ]
  },
  {
   "cell_type": "code",
   "execution_count": 6,
   "id": "12ab1fef",
   "metadata": {},
   "outputs": [
    {
     "data": {
      "text/html": [
       "<div>\n",
       "<style scoped>\n",
       "    .dataframe tbody tr th:only-of-type {\n",
       "        vertical-align: middle;\n",
       "    }\n",
       "\n",
       "    .dataframe tbody tr th {\n",
       "        vertical-align: top;\n",
       "    }\n",
       "\n",
       "    .dataframe thead th {\n",
       "        text-align: right;\n",
       "    }\n",
       "</style>\n",
       "<table border=\"1\" class=\"dataframe\">\n",
       "  <thead>\n",
       "    <tr style=\"text-align: right;\">\n",
       "      <th></th>\n",
       "      <th>Sex</th>\n",
       "      <th>Age</th>\n",
       "      <th>Height</th>\n",
       "      <th>Weight</th>\n",
       "      <th>Duration</th>\n",
       "      <th>Heart_Rate</th>\n",
       "      <th>Body_Temp</th>\n",
       "    </tr>\n",
       "    <tr>\n",
       "      <th>id</th>\n",
       "      <th></th>\n",
       "      <th></th>\n",
       "      <th></th>\n",
       "      <th></th>\n",
       "      <th></th>\n",
       "      <th></th>\n",
       "      <th></th>\n",
       "    </tr>\n",
       "  </thead>\n",
       "  <tbody>\n",
       "    <tr>\n",
       "      <th>750000</th>\n",
       "      <td>male</td>\n",
       "      <td>45</td>\n",
       "      <td>177.0</td>\n",
       "      <td>81.0</td>\n",
       "      <td>7.0</td>\n",
       "      <td>87.0</td>\n",
       "      <td>39.8</td>\n",
       "    </tr>\n",
       "    <tr>\n",
       "      <th>750001</th>\n",
       "      <td>male</td>\n",
       "      <td>26</td>\n",
       "      <td>200.0</td>\n",
       "      <td>97.0</td>\n",
       "      <td>20.0</td>\n",
       "      <td>101.0</td>\n",
       "      <td>40.5</td>\n",
       "    </tr>\n",
       "    <tr>\n",
       "      <th>750002</th>\n",
       "      <td>female</td>\n",
       "      <td>29</td>\n",
       "      <td>188.0</td>\n",
       "      <td>85.0</td>\n",
       "      <td>16.0</td>\n",
       "      <td>102.0</td>\n",
       "      <td>40.4</td>\n",
       "    </tr>\n",
       "    <tr>\n",
       "      <th>750003</th>\n",
       "      <td>female</td>\n",
       "      <td>39</td>\n",
       "      <td>172.0</td>\n",
       "      <td>73.0</td>\n",
       "      <td>20.0</td>\n",
       "      <td>107.0</td>\n",
       "      <td>40.6</td>\n",
       "    </tr>\n",
       "    <tr>\n",
       "      <th>750004</th>\n",
       "      <td>female</td>\n",
       "      <td>30</td>\n",
       "      <td>173.0</td>\n",
       "      <td>67.0</td>\n",
       "      <td>16.0</td>\n",
       "      <td>94.0</td>\n",
       "      <td>40.5</td>\n",
       "    </tr>\n",
       "    <tr>\n",
       "      <th>...</th>\n",
       "      <td>...</td>\n",
       "      <td>...</td>\n",
       "      <td>...</td>\n",
       "      <td>...</td>\n",
       "      <td>...</td>\n",
       "      <td>...</td>\n",
       "      <td>...</td>\n",
       "    </tr>\n",
       "    <tr>\n",
       "      <th>999995</th>\n",
       "      <td>female</td>\n",
       "      <td>56</td>\n",
       "      <td>159.0</td>\n",
       "      <td>62.0</td>\n",
       "      <td>6.0</td>\n",
       "      <td>85.0</td>\n",
       "      <td>39.4</td>\n",
       "    </tr>\n",
       "    <tr>\n",
       "      <th>999996</th>\n",
       "      <td>male</td>\n",
       "      <td>32</td>\n",
       "      <td>202.0</td>\n",
       "      <td>101.0</td>\n",
       "      <td>3.0</td>\n",
       "      <td>84.0</td>\n",
       "      <td>38.4</td>\n",
       "    </tr>\n",
       "    <tr>\n",
       "      <th>999997</th>\n",
       "      <td>female</td>\n",
       "      <td>31</td>\n",
       "      <td>164.0</td>\n",
       "      <td>64.0</td>\n",
       "      <td>14.0</td>\n",
       "      <td>98.0</td>\n",
       "      <td>40.1</td>\n",
       "    </tr>\n",
       "    <tr>\n",
       "      <th>999998</th>\n",
       "      <td>female</td>\n",
       "      <td>62</td>\n",
       "      <td>158.0</td>\n",
       "      <td>61.0</td>\n",
       "      <td>25.0</td>\n",
       "      <td>106.0</td>\n",
       "      <td>40.7</td>\n",
       "    </tr>\n",
       "    <tr>\n",
       "      <th>999999</th>\n",
       "      <td>male</td>\n",
       "      <td>31</td>\n",
       "      <td>199.0</td>\n",
       "      <td>96.0</td>\n",
       "      <td>15.0</td>\n",
       "      <td>98.0</td>\n",
       "      <td>39.9</td>\n",
       "    </tr>\n",
       "  </tbody>\n",
       "</table>\n",
       "<p>250000 rows × 7 columns</p>\n",
       "</div>"
      ],
      "text/plain": [
       "           Sex  Age  Height  Weight  Duration  Heart_Rate  Body_Temp\n",
       "id                                                                  \n",
       "750000    male   45   177.0    81.0       7.0        87.0       39.8\n",
       "750001    male   26   200.0    97.0      20.0       101.0       40.5\n",
       "750002  female   29   188.0    85.0      16.0       102.0       40.4\n",
       "750003  female   39   172.0    73.0      20.0       107.0       40.6\n",
       "750004  female   30   173.0    67.0      16.0        94.0       40.5\n",
       "...        ...  ...     ...     ...       ...         ...        ...\n",
       "999995  female   56   159.0    62.0       6.0        85.0       39.4\n",
       "999996    male   32   202.0   101.0       3.0        84.0       38.4\n",
       "999997  female   31   164.0    64.0      14.0        98.0       40.1\n",
       "999998  female   62   158.0    61.0      25.0       106.0       40.7\n",
       "999999    male   31   199.0    96.0      15.0        98.0       39.9\n",
       "\n",
       "[250000 rows x 7 columns]"
      ]
     },
     "execution_count": 6,
     "metadata": {},
     "output_type": "execute_result"
    }
   ],
   "source": [
    "df_test = read_data(RAW_TEST_PATH)\n",
    "df_test"
   ]
  },
  {
   "cell_type": "markdown",
   "id": "4f8c6aaf",
   "metadata": {},
   "source": [
    "### Clean"
   ]
  },
  {
   "cell_type": "code",
   "execution_count": 7,
   "id": "4987e148",
   "metadata": {},
   "outputs": [],
   "source": [
    "def clean(df: pd.DataFrame) -> pd.DataFrame:\n",
    "    df = df.drop_duplicates()\n",
    "    return df"
   ]
  },
  {
   "cell_type": "code",
   "execution_count": 8,
   "id": "45374dc9",
   "metadata": {},
   "outputs": [],
   "source": [
    "df_train_cleaned = clean(df_train)"
   ]
  },
  {
   "cell_type": "code",
   "execution_count": 9,
   "id": "3efb817a",
   "metadata": {},
   "outputs": [
    {
     "data": {
      "text/plain": [
       "0"
      ]
     },
     "execution_count": 9,
     "metadata": {},
     "output_type": "execute_result"
    }
   ],
   "source": [
    "sum(df_train_cleaned.duplicated())"
   ]
  },
  {
   "cell_type": "markdown",
   "id": "a02ff022",
   "metadata": {},
   "source": [
    "### Missing Values"
   ]
  },
  {
   "cell_type": "code",
   "execution_count": 10,
   "id": "f2dda112",
   "metadata": {},
   "outputs": [
    {
     "data": {
      "text/plain": [
       "np.int64(0)"
      ]
     },
     "execution_count": 10,
     "metadata": {},
     "output_type": "execute_result"
    }
   ],
   "source": [
    "df_train.isna().sum().sum()"
   ]
  },
  {
   "cell_type": "code",
   "execution_count": 11,
   "id": "dfc2cd32",
   "metadata": {},
   "outputs": [
    {
     "data": {
      "text/plain": [
       "np.int64(0)"
      ]
     },
     "execution_count": 11,
     "metadata": {},
     "output_type": "execute_result"
    }
   ],
   "source": [
    "df_test.isna().sum().sum()"
   ]
  },
  {
   "cell_type": "markdown",
   "id": "2233607e",
   "metadata": {},
   "source": [
    "### Encode"
   ]
  },
  {
   "cell_type": "code",
   "execution_count": 12,
   "id": "ac07a41f",
   "metadata": {},
   "outputs": [],
   "source": [
    "def encode(\n",
    "    df: pd.DataFrame,\n",
    "    features_cat: Optional[List[str]] = None,\n",
    "    features_date: Optional[List[str]] = None,\n",
    "    feature_ord_levels: Optional[Dict[str, List[str]]] = None,\n",
    "    format: str = \"%d-%m-%Y\",\n",
    ") -> pd.DataFrame:\n",
    "\n",
    "    def encode_cat(df: pd.DataFrame, features_cat: List[str]) -> pd.DataFrame:\n",
    "        for feature in features_cat:\n",
    "            if feature in df.columns:\n",
    "                df[feature] = df[feature].astype(\"category\")\n",
    "        return df\n",
    "\n",
    "    def encode_date(df: pd.DataFrame, features_date: List[str]) -> pd.DataFrame:\n",
    "        for feature in features_date:\n",
    "            if feature in df.columns:\n",
    "                df[feature] = pd.to_datetime(\n",
    "                    df[feature], format=format, errors=\"coerce\"\n",
    "                )\n",
    "        return df\n",
    "\n",
    "    def encode_ord(\n",
    "        df: pd.DataFrame, feature_ord_levels: Dict[str, List[str]]\n",
    "    ) -> pd.DataFrame:\n",
    "        for feature, levels in feature_ord_levels.items():\n",
    "            if feature in df.columns:\n",
    "                cat_type = CategoricalDtype(categories=levels, ordered=True)\n",
    "                df[feature] = df[feature].astype(str).astype(cat_type)\n",
    "        return df\n",
    "\n",
    "    if features_cat:\n",
    "        df = encode_cat(df, features_cat)\n",
    "\n",
    "    if features_date:\n",
    "        df = encode_date(df, features_date)\n",
    "\n",
    "    if feature_ord_levels:\n",
    "        df = encode_ord(df, feature_ord_levels)\n",
    "\n",
    "    return df"
   ]
  },
  {
   "cell_type": "code",
   "execution_count": 13,
   "id": "3b0a566e",
   "metadata": {},
   "outputs": [
    {
     "name": "stderr",
     "output_type": "stream",
     "text": [
      "/tmp/ipykernel_55722/3585337718.py:12: SettingWithCopyWarning: \n",
      "A value is trying to be set on a copy of a slice from a DataFrame.\n",
      "Try using .loc[row_indexer,col_indexer] = value instead\n",
      "\n",
      "See the caveats in the documentation: https://pandas.pydata.org/pandas-docs/stable/user_guide/indexing.html#returning-a-view-versus-a-copy\n",
      "  df[feature] = df[feature].astype(\"category\")\n"
     ]
    }
   ],
   "source": [
    "df_train_encoded = encode(df_train_cleaned, features_cat=FEATURES_CAT)"
   ]
  },
  {
   "cell_type": "markdown",
   "id": "23a8f78b",
   "metadata": {},
   "source": [
    "### Summary"
   ]
  },
  {
   "cell_type": "code",
   "execution_count": 14,
   "id": "0a0dbe91",
   "metadata": {},
   "outputs": [],
   "source": [
    "def load_data(\n",
    "    path: str,\n",
    "    features_cat: Optional[List[str]] = None,\n",
    "    features_date: Optional[List[str]] = None,\n",
    "    feature_ord_levels: Optional[Dict[str, List[str]]] = None,\n",
    ") -> pd.DataFrame:\n",
    "\n",
    "    df = read_data(path)\n",
    "    df = clean(df)\n",
    "\n",
    "    df = encode(\n",
    "        df,\n",
    "        features_cat=features_cat or [],\n",
    "        features_date=features_date or [],\n",
    "        feature_ord_levels=feature_ord_levels or {},\n",
    "        format=\"%d/%m/%Y\",\n",
    "    )\n",
    "\n",
    "    return df"
   ]
  },
  {
   "cell_type": "code",
   "execution_count": 15,
   "id": "5e506620",
   "metadata": {},
   "outputs": [
    {
     "data": {
      "text/html": [
       "<div>\n",
       "<style scoped>\n",
       "    .dataframe tbody tr th:only-of-type {\n",
       "        vertical-align: middle;\n",
       "    }\n",
       "\n",
       "    .dataframe tbody tr th {\n",
       "        vertical-align: top;\n",
       "    }\n",
       "\n",
       "    .dataframe thead th {\n",
       "        text-align: right;\n",
       "    }\n",
       "</style>\n",
       "<table border=\"1\" class=\"dataframe\">\n",
       "  <thead>\n",
       "    <tr style=\"text-align: right;\">\n",
       "      <th></th>\n",
       "      <th>Sex</th>\n",
       "      <th>Age</th>\n",
       "      <th>Height</th>\n",
       "      <th>Weight</th>\n",
       "      <th>Duration</th>\n",
       "      <th>Heart_Rate</th>\n",
       "      <th>Body_Temp</th>\n",
       "      <th>Calories</th>\n",
       "    </tr>\n",
       "    <tr>\n",
       "      <th>id</th>\n",
       "      <th></th>\n",
       "      <th></th>\n",
       "      <th></th>\n",
       "      <th></th>\n",
       "      <th></th>\n",
       "      <th></th>\n",
       "      <th></th>\n",
       "      <th></th>\n",
       "    </tr>\n",
       "  </thead>\n",
       "  <tbody>\n",
       "    <tr>\n",
       "      <th>0</th>\n",
       "      <td>male</td>\n",
       "      <td>36</td>\n",
       "      <td>189.0</td>\n",
       "      <td>82.0</td>\n",
       "      <td>26.0</td>\n",
       "      <td>101.0</td>\n",
       "      <td>41.0</td>\n",
       "      <td>150.0</td>\n",
       "    </tr>\n",
       "    <tr>\n",
       "      <th>1</th>\n",
       "      <td>female</td>\n",
       "      <td>64</td>\n",
       "      <td>163.0</td>\n",
       "      <td>60.0</td>\n",
       "      <td>8.0</td>\n",
       "      <td>85.0</td>\n",
       "      <td>39.7</td>\n",
       "      <td>34.0</td>\n",
       "    </tr>\n",
       "    <tr>\n",
       "      <th>2</th>\n",
       "      <td>female</td>\n",
       "      <td>51</td>\n",
       "      <td>161.0</td>\n",
       "      <td>64.0</td>\n",
       "      <td>7.0</td>\n",
       "      <td>84.0</td>\n",
       "      <td>39.8</td>\n",
       "      <td>29.0</td>\n",
       "    </tr>\n",
       "    <tr>\n",
       "      <th>3</th>\n",
       "      <td>male</td>\n",
       "      <td>20</td>\n",
       "      <td>192.0</td>\n",
       "      <td>90.0</td>\n",
       "      <td>25.0</td>\n",
       "      <td>105.0</td>\n",
       "      <td>40.7</td>\n",
       "      <td>140.0</td>\n",
       "    </tr>\n",
       "    <tr>\n",
       "      <th>4</th>\n",
       "      <td>female</td>\n",
       "      <td>38</td>\n",
       "      <td>166.0</td>\n",
       "      <td>61.0</td>\n",
       "      <td>25.0</td>\n",
       "      <td>102.0</td>\n",
       "      <td>40.6</td>\n",
       "      <td>146.0</td>\n",
       "    </tr>\n",
       "  </tbody>\n",
       "</table>\n",
       "</div>"
      ],
      "text/plain": [
       "       Sex  Age  Height  Weight  Duration  Heart_Rate  Body_Temp  Calories\n",
       "id                                                                        \n",
       "0     male   36   189.0    82.0      26.0       101.0       41.0     150.0\n",
       "1   female   64   163.0    60.0       8.0        85.0       39.7      34.0\n",
       "2   female   51   161.0    64.0       7.0        84.0       39.8      29.0\n",
       "3     male   20   192.0    90.0      25.0       105.0       40.7     140.0\n",
       "4   female   38   166.0    61.0      25.0       102.0       40.6     146.0"
      ]
     },
     "execution_count": 15,
     "metadata": {},
     "output_type": "execute_result"
    }
   ],
   "source": [
    "df_train_preprocessed = load_data(path=RAW_TRAIN_PATH, features_cat=FEATURES_CAT)\n",
    "df_train_preprocessed.head()"
   ]
  },
  {
   "cell_type": "code",
   "execution_count": 16,
   "id": "6240e858",
   "metadata": {},
   "outputs": [
    {
     "data": {
      "text/plain": [
       "Sex           category\n",
       "Age              int64\n",
       "Height         float64\n",
       "Weight         float64\n",
       "Duration       float64\n",
       "Heart_Rate     float64\n",
       "Body_Temp      float64\n",
       "Calories       float64\n",
       "dtype: object"
      ]
     },
     "execution_count": 16,
     "metadata": {},
     "output_type": "execute_result"
    }
   ],
   "source": [
    "df_train_preprocessed.dtypes"
   ]
  },
  {
   "cell_type": "markdown",
   "id": "e3e77368",
   "metadata": {},
   "source": [
    "## 2 Feature Utility Scores"
   ]
  },
  {
   "cell_type": "markdown",
   "id": "a86ed8b3",
   "metadata": {},
   "source": [
    "## 2.1 MI Scores"
   ]
  },
  {
   "cell_type": "code",
   "execution_count": 17,
   "id": "59f91076",
   "metadata": {},
   "outputs": [],
   "source": [
    "def make_mi_scores(\n",
    "    X: pd.DataFrame, y: Union[pd.Series, np.ndarray], random_state: int = 0\n",
    ") -> pd.Series:\n",
    "    X = X.copy()\n",
    "    for feature in X.select_dtypes([\"object\", \"category\", \"datetime64[ns]\"]):\n",
    "        X[feature], _ = X[feature].factorize()\n",
    "        X[feature] = X[feature].astype(int).fillna(-1)\n",
    "\n",
    "    discrete_features: list[bool] = [pd.api.types.is_integer_dtype(t) for t in X.dtypes]\n",
    "    mi_scores = mutual_info_regression(\n",
    "        X, y, discrete_features=discrete_features, random_state=random_state\n",
    "    )\n",
    "    mi_scores_series = pd.Series(mi_scores, name=\"MI Scores\", index=X.columns)\n",
    "    return mi_scores_series.sort_values(ascending=False)"
   ]
  },
  {
   "cell_type": "code",
   "execution_count": 18,
   "id": "a17ef529",
   "metadata": {},
   "outputs": [],
   "source": [
    "def plot_mi_scores(scores: pd.Series) -> None:\n",
    "    scores = scores.sort_values(ascending=True)\n",
    "    width = np.arange(len(scores))\n",
    "    ticks = list(scores.index)\n",
    "\n",
    "    plt.figure(figsize=(10, 6))\n",
    "    plt.barh(width, scores)\n",
    "    plt.yticks(width, ticks)\n",
    "    plt.title(\"Mutual Information Scores\")\n",
    "    plt.xlabel(\"Score\")\n",
    "    plt.tight_layout()\n",
    "    plt.show()"
   ]
  },
  {
   "cell_type": "code",
   "execution_count": 19,
   "id": "1d544f09",
   "metadata": {},
   "outputs": [
    {
     "data": {
      "text/plain": [
       "Duration      1.638435\n",
       "Body_Temp     1.119307\n",
       "Heart_Rate    0.976208\n",
       "Age           0.095728\n",
       "Weight        0.054552\n",
       "Height        0.053719\n",
       "Sex           0.016690\n",
       "Name: MI Scores, dtype: float64"
      ]
     },
     "execution_count": 19,
     "metadata": {},
     "output_type": "execute_result"
    }
   ],
   "source": [
    "X_mi = df_train_preprocessed.copy()\n",
    "y_mi = X_mi.pop(MI_SCORES_FEATURE_TO_ESTIMATE)\n",
    "\n",
    "mi_scores = make_mi_scores(X_mi, y_mi, random_state=RANDOM_STATE)\n",
    "mi_scores"
   ]
  },
  {
   "cell_type": "code",
   "execution_count": 20,
   "id": "a399db5e",
   "metadata": {},
   "outputs": [
    {
     "data": {
      "image/png": "[encoded data removed]",
      "text/plain": [
       "<Figure size 1000x600 with 1 Axes>"
      ]
     },
     "metadata": {},
     "output_type": "display_data"
    }
   ],
   "source": [
    "plot_mi_scores(mi_scores)"
   ]
  },
  {
   "cell_type": "markdown",
   "id": "38443434",
   "metadata": {},
   "source": [
    "## 3 Feature Engineering"
   ]
  },
  {
   "cell_type": "markdown",
   "id": "b38cc645",
   "metadata": {},
   "source": [
    "## 3.1 Binning"
   ]
  },
  {
   "cell_type": "code",
   "execution_count": 21,
   "id": "6dd8c459",
   "metadata": {},
   "outputs": [],
   "source": [
    "def feature_binning(\n",
    "    df: pd.DataFrame,\n",
    "    add_age_group: bool = True,\n",
    "    add_hr_group: bool = True,\n",
    "    add_duration_group: bool = True,\n",
    ") -> pd.DataFrame:\n",
    "\n",
    "    df = df.copy()\n",
    "\n",
    "    if add_age_group and \"Age\" in df.columns:\n",
    "        df[\"Age_Group\"] = pd.cut(\n",
    "            df[\"Age\"],\n",
    "            bins=[0, 21, 30, 40, 60, 100],\n",
    "            labels=[\"until21\", \"21-30\", \"30-40\", \"40-60\", \"60-100\"],\n",
    "        )\n",
    "\n",
    "    if add_hr_group and \"Heart_Rate\" in df.columns:\n",
    "        df[\"Heart_Rate_Group\"] = pd.cut(\n",
    "            df[\"Heart_Rate\"],\n",
    "            bins=[0, 90, 120, 140, 200],\n",
    "            labels=[\"low\", \"normal\", \"high\", \"very_high\"],\n",
    "        )\n",
    "\n",
    "    if add_duration_group and \"Duration\" in df.columns:\n",
    "        df[\"Duration_Group\"] = pd.qcut(\n",
    "            df[\"Duration\"], q=4, labels=[\"short\", \"medium\", \"long\", \"very_long\"]\n",
    "        )\n",
    "\n",
    "    return df"
   ]
  },
  {
   "cell_type": "code",
   "execution_count": 22,
   "id": "25425376",
   "metadata": {},
   "outputs": [],
   "source": [
    "df_train_feature_binning = feature_binning(df_train_preprocessed)"
   ]
  },
  {
   "cell_type": "markdown",
   "id": "744a0bb9",
   "metadata": {},
   "source": [
    "## 3.2 Feature Transformation"
   ]
  },
  {
   "cell_type": "code",
   "execution_count": 23,
   "id": "4f2b3c6d",
   "metadata": {},
   "outputs": [],
   "source": [
    "def feature_transformation(df: pd.DataFrame) -> pd.DataFrame:\n",
    "\n",
    "    df = df.copy()\n",
    "\n",
    "    if \"Body_Temp\" in df.columns:\n",
    "        df[\"Temp_Deviation\"] = df[\"Body_Temp\"] - 36.5\n",
    "        df[\"Is_Fever\"] = (df[\"Body_Temp\"] >= 38.0).astype(int)\n",
    "\n",
    "    if \"Heart_Rate\" in df.columns:\n",
    "        df[\"Heart_Rate_Deviation\"] = df[\"Heart_Rate\"] - 60\n",
    "\n",
    "    if \"Duration\" in df.columns:\n",
    "        df[\"Log_Duration\"] = np.log1p(df[\"Duration\"])\n",
    "        df[\"Is_Short_Session\"] = (df[\"Duration\"] < 10).astype(int)\n",
    "\n",
    "    if \"Weight\" in df.columns:\n",
    "        df[\"Log_Weight\"] = np.log1p(df[\"Weight\"])\n",
    "\n",
    "    if \"Age\" in df.columns:\n",
    "        df[\"Log_Age\"] = np.log1p(df[\"Age\"])\n",
    "        df[\"Is_Young\"] = (df[\"Age\"] <= 25).astype(int)\n",
    "\n",
    "    return df"
   ]
  },
  {
   "cell_type": "code",
   "execution_count": 24,
   "id": "b3d3d5ef",
   "metadata": {},
   "outputs": [],
   "source": [
    "df_train_feature_transformation = feature_transformation(df_train_feature_binning)"
   ]
  },
  {
   "cell_type": "markdown",
   "id": "28ba48b4",
   "metadata": {},
   "source": [
    "## 3.3 Interactions"
   ]
  },
  {
   "cell_type": "code",
   "execution_count": 25,
   "id": "a7950946",
   "metadata": {},
   "outputs": [],
   "source": [
    "\n",
    "def feature_interactions(df: pd.DataFrame) -> pd.DataFrame:\n",
    "    df = df.copy()\n",
    "\n",
    "    if \"Weight\" in df.columns and \"Height\" in df.columns:\n",
    "        df[\"BMI\"] = df[\"Weight\"] / ((df[\"Height\"] / 100) ** 2)\n",
    "        df[\"Is_High_BMI\"] = (df[\"BMI\"] > 27).astype(int)\n",
    "\n",
    "    if (\n",
    "        \"Duration\" in df.columns\n",
    "        and \"Heart_Rate\" in df.columns\n",
    "        and \"Weight\" in df.columns\n",
    "    ):\n",
    "        df[\"Calories_Est\"] = df[\"Duration\"] * df[\"Heart_Rate\"] * df[\"Weight\"] / 10000\n",
    "        df[\"Log_Calories_Est\"] = np.log1p(df[\"Calories_Est\"])\n",
    "\n",
    "    if \"Duration\" in df.columns and \"Heart_Rate\" in df.columns:\n",
    "        df[\"Effort\"] = df[\"Duration\"] * df[\"Heart_Rate\"]\n",
    "        df[\"Log_Effort\"] = np.log1p(df[\"Effort\"])\n",
    "\n",
    "    if \"Heart_Rate\" in df.columns and \"Age\" in df.columns:\n",
    "        df[\"Heart_Rate_Per_Age\"] = df[\"Heart_Rate\"] / df[\"Age\"]\n",
    "        df[\"Intensity_Index\"] = df[\"Heart_Rate\"] / (220 - df[\"Age\"])\n",
    "        df[\"Log_Heart_Rate_Per_Age\"] = np.log1p(df[\"Heart_Rate_Per_Age\"])\n",
    "\n",
    "    if \"Duration\" in df.columns and \"Weight\" in df.columns:\n",
    "        df[\"Effort_Per_Kg\"] = df[\"Duration\"] * df[\"Heart_Rate\"] / df[\"Weight\"]\n",
    "        df[\"Log_Effort_Per_Kg\"] = np.log1p(df[\"Effort_Per_Kg\"])\n",
    "\n",
    "    if \"Duration\" in df.columns and \"Age\" in df.columns:\n",
    "        df[\"Duration_Per_Age\"] = df[\"Duration\"] / df[\"Age\"]\n",
    "\n",
    "    return df"
   ]
  },
  {
   "cell_type": "code",
   "execution_count": 26,
   "id": "1994d332",
   "metadata": {},
   "outputs": [],
   "source": [
    "df_train_feature_interactions = feature_interactions(df_train_feature_transformation)"
   ]
  },
  {
   "cell_type": "markdown",
   "id": "af794186",
   "metadata": {},
   "source": [
    "## 3.4 MI Scores for New Features"
   ]
  },
  {
   "cell_type": "code",
   "execution_count": 27,
   "id": "c44e48b9",
   "metadata": {},
   "outputs": [
    {
     "data": {
      "text/plain": [
       "Log_Effort                1.987827\n",
       "Effort                    1.986860\n",
       "Log_Duration              1.640492\n",
       "Duration                  1.638250\n",
       "Log_Effort_Per_Kg         1.626991\n",
       "Effort_Per_Kg             1.626365\n",
       "Calories_Est              1.612095\n",
       "Log_Calories_Est          1.611389\n",
       "Duration_Per_Age          1.401097\n",
       "Body_Temp                 1.119650\n",
       "Temp_Deviation            1.119192\n",
       "Duration_Group            1.073016\n",
       "Intensity_Index           1.028255\n",
       "Heart_Rate_Deviation      0.976418\n",
       "Heart_Rate                0.974740\n",
       "Heart_Rate_Per_Age        0.880424\n",
       "Log_Heart_Rate_Per_Age    0.879938\n",
       "Is_Short_Session          0.519147\n",
       "Heart_Rate_Group          0.387201\n",
       "BMI                       0.107317\n",
       "Age                       0.097676\n",
       "Log_Age                   0.095213\n",
       "Is_Fever                  0.073445\n",
       "Height                    0.054362\n",
       "Weight                    0.054187\n",
       "Log_Weight                0.052850\n",
       "Age_Group                 0.038221\n",
       "Sex                       0.016694\n",
       "Is_Young                  0.011669\n",
       "Is_High_BMI               0.003620\n",
       "Name: MI Scores, dtype: float64"
      ]
     },
     "execution_count": 27,
     "metadata": {},
     "output_type": "execute_result"
    }
   ],
   "source": [
    "X_new_mi = df_train_feature_interactions.copy()\n",
    "y_new_mi = X_new_mi.pop(MI_SCORES_FEATURE_TO_ESTIMATE)\n",
    "\n",
    "new_mi_scores = make_mi_scores(X_new_mi, y_new_mi, random_state=RANDOM_STATE)\n",
    "new_mi_scores"
   ]
  },
  {
   "cell_type": "code",
   "execution_count": 28,
   "id": "d1585003",
   "metadata": {},
   "outputs": [
    {
     "data": {
      "image/png": "[encoded data removed]",
      "text/plain": [
       "<Figure size 1000x600 with 1 Axes>"
      ]
     },
     "metadata": {},
     "output_type": "display_data"
    }
   ],
   "source": [
    "plot_mi_scores(new_mi_scores)"
   ]
  },
  {
   "cell_type": "markdown",
   "id": "f09844fb",
   "metadata": {},
   "source": [
    "## 3.5 Create Features"
   ]
  },
  {
   "cell_type": "code",
   "execution_count": 29,
   "id": "a8ff8692",
   "metadata": {},
   "outputs": [],
   "source": [
    "def create_features(\n",
    "    df: pd.DataFrame, drop_features_after_engineering: Union[list, tuple]\n",
    ") -> pd.DataFrame:\n",
    "\n",
    "    df = df.copy()\n",
    "\n",
    "    df = feature_binning(df)\n",
    "    df = feature_transformation(df)\n",
    "    df = feature_interactions(df)\n",
    "    \n",
    "    features_to_drop = [\n",
    "        col for col in drop_features_after_engineering if col in df.columns\n",
    "    ]\n",
    "    df.drop(columns=features_to_drop, inplace=True)\n",
    "    df = df.drop_duplicates()\n",
    "\n",
    "    return df"
   ]
  },
  {
   "cell_type": "code",
   "execution_count": 30,
   "id": "ea387a94",
   "metadata": {},
   "outputs": [],
   "source": [
    "df_train_feature_engineering = create_features(df_train_preprocessed, drop_features_after_engineering=DROP_FEATURES_AFTER_ENGINEERING)"
   ]
  },
  {
   "cell_type": "code",
   "execution_count": 31,
   "id": "3461161a",
   "metadata": {},
   "outputs": [
    {
     "name": "stdout",
     "output_type": "stream",
     "text": [
      "<class 'pandas.core.frame.DataFrame'>\n",
      "Index: 747102 entries, 0 to 749999\n",
      "Data columns (total 27 columns):\n",
      " #   Column                  Non-Null Count   Dtype   \n",
      "---  ------                  --------------   -----   \n",
      " 0   Age                     747102 non-null  int64   \n",
      " 1   Height                  747102 non-null  float64 \n",
      " 2   Weight                  747102 non-null  float64 \n",
      " 3   Duration                747102 non-null  float64 \n",
      " 4   Heart_Rate              747102 non-null  float64 \n",
      " 5   Body_Temp               747102 non-null  float64 \n",
      " 6   Calories                747102 non-null  float64 \n",
      " 7   Heart_Rate_Group        747102 non-null  category\n",
      " 8   Duration_Group          747102 non-null  category\n",
      " 9   Temp_Deviation          747102 non-null  float64 \n",
      " 10  Is_Fever                747102 non-null  int64   \n",
      " 11  Heart_Rate_Deviation    747102 non-null  float64 \n",
      " 12  Log_Duration            747102 non-null  float64 \n",
      " 13  Is_Short_Session        747102 non-null  int64   \n",
      " 14  Log_Weight              747102 non-null  float64 \n",
      " 15  Log_Age                 747102 non-null  float64 \n",
      " 16  BMI                     747102 non-null  float64 \n",
      " 17  Calories_Est            747102 non-null  float64 \n",
      " 18  Log_Calories_Est        747102 non-null  float64 \n",
      " 19  Effort                  747102 non-null  float64 \n",
      " 20  Log_Effort              747102 non-null  float64 \n",
      " 21  Heart_Rate_Per_Age      747102 non-null  float64 \n",
      " 22  Intensity_Index         747102 non-null  float64 \n",
      " 23  Log_Heart_Rate_Per_Age  747102 non-null  float64 \n",
      " 24  Effort_Per_Kg           747102 non-null  float64 \n",
      " 25  Log_Effort_Per_Kg       747102 non-null  float64 \n",
      " 26  Duration_Per_Age        747102 non-null  float64 \n",
      "dtypes: category(2), float64(22), int64(3)\n",
      "memory usage: 149.6 MB\n"
     ]
    }
   ],
   "source": [
    "df_train_feature_engineering.info()"
   ]
  },
  {
   "cell_type": "markdown",
   "id": "ce3f18b4",
   "metadata": {},
   "source": [
    "## 3.6 Feature Engineering Report"
   ]
  },
  {
   "cell_type": "code",
   "execution_count": 32,
   "id": "bf74f883",
   "metadata": {},
   "outputs": [
    {
     "name": "stderr",
     "output_type": "stream",
     "text": [
      "100%|██████████| 27/27 [00:00<00:00, 44.15it/s]1<00:00, 22.92it/s, Describe variable: Duration_Per_Age] \n",
      "Summarize dataset: 100%|██████████| 565/565 [01:15<00:00,  7.50it/s, Completed]                                             \n",
      "Generate report structure: 100%|██████████| 1/1 [00:02<00:00,  2.33s/it]\n",
      "Render HTML: 100%|██████████| 1/1 [00:04<00:00,  4.06s/it]\n",
      "Export report to file: 100%|██████████| 1/1 [00:00<00:00, 26.12it/s]\n"
     ]
    }
   ],
   "source": [
    "profile_report = ProfileReport(df_train_feature_engineering, title=\"Profile Report\")\n",
    "profile_report.to_file(REPORTS_DIR.joinpath(\"feature_engineering_report.html\"))"
   ]
  }
 ],
 "metadata": {
  "kernelspec": {
   "display_name": ".venv",
   "language": "python",
   "name": "python3"
  },
  "language_info": {
   "codemirror_mode": {
    "name": "ipython",
    "version": 3
   },
   "file_extension": ".py",
   "mimetype": "text/x-python",
   "name": "python",
   "nbconvert_exporter": "python",
   "pygments_lexer": "ipython3",
   "version": "3.12.7"
  }
 },
 "nbformat": 4,
 "nbformat_minor": 5
}
