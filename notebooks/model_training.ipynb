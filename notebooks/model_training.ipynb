{
 "cells": [
  {
   "cell_type": "markdown",
   "id": "343f0427",
   "metadata": {},
   "source": [
    "## 1 Preliminaries"
   ]
  },
  {
   "cell_type": "markdown",
   "id": "7e0301b8",
   "metadata": {},
   "source": [
    "## 1.1 Imports and Configurations"
   ]
  },
  {
   "cell_type": "markdown",
   "id": "aa9b2395",
   "metadata": {},
   "source": [
    "### Imports"
   ]
  },
  {
   "cell_type": "code",
   "execution_count": 1,
   "id": "45772d30",
   "metadata": {},
   "outputs": [],
   "source": [
    "import random\n",
    "import numpy as np\n",
    "import pandas as pd\n",
    "\n",
    "from pathlib import Path\n",
    "from typing import List, Dict, Optional, Union\n",
    "from pandas.api.types import CategoricalDtype\n",
    "\n",
    "from xgboost import XGBRegressor\n",
    "from sklearn.model_selection import KFold, cross_val_score\n",
    "from sklearn.pipeline import Pipeline\n",
    "from sklearn.compose import ColumnTransformer\n",
    "from sklearn.preprocessing import FunctionTransformer"
   ]
  },
  {
   "cell_type": "markdown",
   "id": "e869c9fc",
   "metadata": {},
   "source": [
    "### Constants"
   ]
  },
  {
   "cell_type": "code",
   "execution_count": 2,
   "id": "d451c385",
   "metadata": {},
   "outputs": [],
   "source": [
    "# 1 Preliminaries\n",
    "\n",
    "RANDOM_STATE = 42\n",
    "\n",
    "FINAL_TRAIN_PATH = Path(\"../data/final/train.csv\")\n",
    "FINAL_TEST_PATH = Path(\"../data/final/test.csv\")\n",
    "FINAL_SUBMISSION_PATH = Path(\"../data/final/submission.csv\")\n",
    "\n",
    "FEATURES_CAT = [\n",
    "    \"Sex\",\n",
    "    \"Is_Fever\",\n",
    "    \"Is_Short_Session\",\n",
    "]\n",
    "FEATURE_ORD_LEVELS = {\n",
    "    \"Age_Group\": [\"until25\", \"25-40\", \"40-60\", \"60-100\"],\n",
    "    \"Heart_Rate_Group\": [\"low\", \"normal\", \"high\"],\n",
    "    \"Duration_Group\": [\"short\", \"medium\", \"long\", \"very_long\"],\n",
    "}"
   ]
  },
  {
   "cell_type": "markdown",
   "id": "8aa98361",
   "metadata": {},
   "source": [
    "### Configs"
   ]
  },
  {
   "cell_type": "code",
   "execution_count": 3,
   "id": "835b0216",
   "metadata": {},
   "outputs": [],
   "source": [
    "random.seed(RANDOM_STATE)\n",
    "np.random.seed(RANDOM_STATE)"
   ]
  },
  {
   "cell_type": "markdown",
   "id": "15744a18",
   "metadata": {},
   "source": [
    "## 1.2 Data Preprocessing"
   ]
  },
  {
   "cell_type": "code",
   "execution_count": 4,
   "id": "c645aef9",
   "metadata": {},
   "outputs": [],
   "source": [
    "def read_data(path: Union[str, Path]) -> pd.DataFrame:\n",
    "    df = pd.read_csv(path, index_col=0)\n",
    "    return df"
   ]
  },
  {
   "cell_type": "code",
   "execution_count": 5,
   "id": "3d519ce4",
   "metadata": {},
   "outputs": [],
   "source": [
    "def encode(\n",
    "    df: pd.DataFrame,\n",
    "    features_cat: Optional[List[str]] = None,\n",
    "    features_date: Optional[List[str]] = None,\n",
    "    feature_ord_levels: Optional[Dict[str, List[str]]] = None,\n",
    "    format: str = \"%d-%m-%Y\",\n",
    ") -> pd.DataFrame:\n",
    "\n",
    "    def encode_cat(df: pd.DataFrame, features_cat: List[str]) -> pd.DataFrame:\n",
    "        for feature in features_cat:\n",
    "            if feature in df.columns:\n",
    "                df[feature] = df[feature].astype(\"category\")\n",
    "        return df\n",
    "\n",
    "    def encode_date(df: pd.DataFrame, features_date: List[str]) -> pd.DataFrame:\n",
    "        for feature in features_date:\n",
    "            if feature in df.columns:\n",
    "                df[feature] = pd.to_datetime(\n",
    "                    df[feature], format=format, errors=\"coerce\"\n",
    "                )\n",
    "        return df\n",
    "\n",
    "    def encode_ord(\n",
    "        df: pd.DataFrame, feature_ord_levels: Dict[str, List[str]]\n",
    "    ) -> pd.DataFrame:\n",
    "        for feature, levels in feature_ord_levels.items():\n",
    "            if feature in df.columns:\n",
    "                cat_type = CategoricalDtype(categories=levels, ordered=True)\n",
    "                df[feature] = df[feature].astype(str).astype(cat_type)\n",
    "        return df\n",
    "\n",
    "    if features_cat:\n",
    "        df = encode_cat(df, features_cat)\n",
    "\n",
    "    if features_date:\n",
    "        df = encode_date(df, features_date)\n",
    "\n",
    "    if feature_ord_levels:\n",
    "        df = encode_ord(df, feature_ord_levels)\n",
    "\n",
    "    return df"
   ]
  },
  {
   "cell_type": "code",
   "execution_count": 6,
   "id": "7cfe3169",
   "metadata": {},
   "outputs": [],
   "source": [
    "def preprocess_data(\n",
    "    path: str,\n",
    "    features_cat: Optional[List[str]] = None,\n",
    "    features_date: Optional[List[str]] = None,\n",
    "    feature_ord_levels: Optional[Dict[str, List[str]]] = None,\n",
    ") -> pd.DataFrame:\n",
    "\n",
    "    df = read_data(path)\n",
    "\n",
    "    df = encode(\n",
    "        df,\n",
    "        features_cat=features_cat or [],\n",
    "        features_date=features_date or [],\n",
    "        feature_ord_levels=feature_ord_levels or {},\n",
    "        format=\"%d/%m/%Y\",\n",
    "    )\n",
    "\n",
    "    return df"
   ]
  },
  {
   "cell_type": "code",
   "execution_count": 7,
   "id": "6a1f0ec6",
   "metadata": {},
   "outputs": [],
   "source": [
    "df_train = preprocess_data(\n",
    "    path=FINAL_TRAIN_PATH,\n",
    "    features_cat=FEATURES_CAT,\n",
    "    feature_ord_levels=FEATURE_ORD_LEVELS,\n",
    ")"
   ]
  },
  {
   "cell_type": "code",
   "execution_count": 8,
   "id": "746a0923",
   "metadata": {},
   "outputs": [
    {
     "name": "stdout",
     "output_type": "stream",
     "text": [
      "<class 'pandas.core.frame.DataFrame'>\n",
      "Index: 747102 entries, 0 to 749999\n",
      "Data columns (total 26 columns):\n",
      " #   Column                Non-Null Count   Dtype   \n",
      "---  ------                --------------   -----   \n",
      " 0   Age                   747102 non-null  int64   \n",
      " 1   Height                747102 non-null  float64 \n",
      " 2   Weight                747102 non-null  float64 \n",
      " 3   Duration              747102 non-null  float64 \n",
      " 4   Heart_Rate            747102 non-null  float64 \n",
      " 5   Body_Temp             747102 non-null  float64 \n",
      " 6   Calories              747102 non-null  float64 \n",
      " 7   Age_Group             747102 non-null  category\n",
      " 8   Heart_Rate_Group      747102 non-null  category\n",
      " 9   Duration_Group        747102 non-null  category\n",
      " 10  Body_Temp_Deviation   747102 non-null  float64 \n",
      " 11  Is_Fever              747102 non-null  category\n",
      " 12  Heart_Rate_Deviation  747102 non-null  float64 \n",
      " 13  Log_Duration          747102 non-null  float64 \n",
      " 14  Is_Short_Session      747102 non-null  category\n",
      " 15  Log_Weight            747102 non-null  float64 \n",
      " 16  Log_Age               747102 non-null  float64 \n",
      " 17  BMI                   747102 non-null  float64 \n",
      " 18  Calories_Est          747102 non-null  float64 \n",
      " 19  Log_Calories_Est      747102 non-null  float64 \n",
      " 20  Effort                747102 non-null  float64 \n",
      " 21  Log_Effort            747102 non-null  float64 \n",
      " 22  Intensity_Index       747102 non-null  float64 \n",
      " 23  Effort_Per_Kg         747102 non-null  float64 \n",
      " 24  Log_Effort_Per_Kg     747102 non-null  float64 \n",
      " 25  Duration_Per_Age      747102 non-null  float64 \n",
      "dtypes: category(5), float64(20), int64(1)\n",
      "memory usage: 129.0 MB\n"
     ]
    }
   ],
   "source": [
    "df_train.info()"
   ]
  },
  {
   "cell_type": "code",
   "execution_count": 9,
   "id": "630ab1a2",
   "metadata": {},
   "outputs": [],
   "source": [
    "df_test = preprocess_data(\n",
    "    path=FINAL_TEST_PATH,\n",
    "    features_cat=FEATURES_CAT,\n",
    "    feature_ord_levels=FEATURE_ORD_LEVELS,\n",
    ")"
   ]
  },
  {
   "cell_type": "code",
   "execution_count": 10,
   "id": "73e97911",
   "metadata": {},
   "outputs": [
    {
     "name": "stdout",
     "output_type": "stream",
     "text": [
      "<class 'pandas.core.frame.DataFrame'>\n",
      "Index: 250000 entries, 750000 to 999999\n",
      "Data columns (total 25 columns):\n",
      " #   Column                Non-Null Count   Dtype   \n",
      "---  ------                --------------   -----   \n",
      " 0   Age                   250000 non-null  int64   \n",
      " 1   Height                250000 non-null  float64 \n",
      " 2   Weight                250000 non-null  float64 \n",
      " 3   Duration              250000 non-null  float64 \n",
      " 4   Heart_Rate            250000 non-null  float64 \n",
      " 5   Body_Temp             250000 non-null  float64 \n",
      " 6   Age_Group             250000 non-null  category\n",
      " 7   Heart_Rate_Group      250000 non-null  category\n",
      " 8   Duration_Group        250000 non-null  category\n",
      " 9   Body_Temp_Deviation   250000 non-null  float64 \n",
      " 10  Is_Fever              250000 non-null  category\n",
      " 11  Heart_Rate_Deviation  250000 non-null  float64 \n",
      " 12  Log_Duration          250000 non-null  float64 \n",
      " 13  Is_Short_Session      250000 non-null  category\n",
      " 14  Log_Weight            250000 non-null  float64 \n",
      " 15  Log_Age               250000 non-null  float64 \n",
      " 16  BMI                   250000 non-null  float64 \n",
      " 17  Calories_Est          250000 non-null  float64 \n",
      " 18  Log_Calories_Est      250000 non-null  float64 \n",
      " 19  Effort                250000 non-null  float64 \n",
      " 20  Log_Effort            250000 non-null  float64 \n",
      " 21  Intensity_Index       250000 non-null  float64 \n",
      " 22  Effort_Per_Kg         250000 non-null  float64 \n",
      " 23  Log_Effort_Per_Kg     250000 non-null  float64 \n",
      " 24  Duration_Per_Age      250000 non-null  float64 \n",
      "dtypes: category(5), float64(19), int64(1)\n",
      "memory usage: 41.2 MB\n"
     ]
    }
   ],
   "source": [
    "df_test.info()"
   ]
  },
  {
   "cell_type": "markdown",
   "id": "9dddc6d8",
   "metadata": {},
   "source": [
    "## 2 Model Trainig"
   ]
  },
  {
   "cell_type": "markdown",
   "id": "d1aab2d2",
   "metadata": {},
   "source": [
    "## 2.1 Trees"
   ]
  },
  {
   "cell_type": "markdown",
   "id": "cf69e778",
   "metadata": {},
   "source": [
    "### Split Data"
   ]
  },
  {
   "cell_type": "code",
   "execution_count": 11,
   "id": "d2a8360d",
   "metadata": {},
   "outputs": [],
   "source": [
    "X_train = df_train.drop(columns=[\"Calories\"])\n",
    "y_train = df_train[\"Calories\"]\n",
    "y_train_log = np.log1p(y_train)"
   ]
  },
  {
   "cell_type": "markdown",
   "id": "eeead771",
   "metadata": {},
   "source": [
    "### Preprocess Pipeline"
   ]
  },
  {
   "cell_type": "code",
   "execution_count": 12,
   "id": "4cb20215",
   "metadata": {},
   "outputs": [],
   "source": [
    "def encode_categories_as_int(X: pd.DataFrame) -> pd.DataFrame:\n",
    "    X = X.copy()\n",
    "    for col in X.select_dtypes(include='category').columns:\n",
    "        X[col] = X[col].cat.codes\n",
    "    return X"
   ]
  },
  {
   "cell_type": "code",
   "execution_count": 13,
   "id": "ed1c28e6",
   "metadata": {},
   "outputs": [],
   "source": [
    "def get_tree_pipeline(df: pd.DataFrame) -> Pipeline:\n",
    "    cat_cols: List[str] = df.select_dtypes(include=\"category\").columns.tolist()\n",
    "    num_cols: List[str] = df.select_dtypes(include=[\"int64\", \"float64\"]).columns.tolist()\n",
    "\n",
    "    cat_pipeline = Pipeline([\n",
    "        (\"cat_codes\", FunctionTransformer(encode_categories_as_int))\n",
    "    ])\n",
    "\n",
    "    num_pipeline = FunctionTransformer(func=lambda x: x, validate=False)\n",
    "\n",
    "    preprocessor = ColumnTransformer([\n",
    "        (\"cat\", cat_pipeline, cat_cols),\n",
    "        (\"num\", num_pipeline, num_cols)\n",
    "    ])\n",
    "\n",
    "    pipeline = Pipeline([\n",
    "        (\"preprocessor\", preprocessor)\n",
    "    ])\n",
    "\n",
    "    return pipeline"
   ]
  },
  {
   "cell_type": "code",
   "execution_count": 14,
   "id": "9acaa4a5",
   "metadata": {},
   "outputs": [],
   "source": [
    "tree_pipeline = get_tree_pipeline(X_train)"
   ]
  },
  {
   "cell_type": "code",
   "execution_count": 15,
   "id": "d2f56379",
   "metadata": {},
   "outputs": [],
   "source": [
    "X_train_encoded = tree_pipeline.fit_transform(X_train)\n",
    "X_test_encoded = tree_pipeline.transform(df_test)"
   ]
  },
  {
   "cell_type": "markdown",
   "id": "fc7c39d7",
   "metadata": {},
   "source": [
    "### Model Initialization"
   ]
  },
  {
   "cell_type": "code",
   "execution_count": 16,
   "id": "58520fe4",
   "metadata": {},
   "outputs": [],
   "source": [
    "xgb_regressor = XGBRegressor(\n",
    "    n_estimators=300,\n",
    "    learning_rate=0.05,\n",
    "    max_depth=6,\n",
    "    random_state=RANDOM_STATE,\n",
    "    n_jobs=-1,\n",
    ")"
   ]
  },
  {
   "cell_type": "markdown",
   "id": "42e931a4",
   "metadata": {},
   "source": [
    "### Cross Validation"
   ]
  },
  {
   "cell_type": "code",
   "execution_count": 17,
   "id": "dfc68da5",
   "metadata": {},
   "outputs": [],
   "source": [
    "cv = KFold(n_splits=5, shuffle=True, random_state=RANDOM_STATE)\n",
    "\n",
    "scores = cross_val_score(\n",
    "    xgb_regressor,\n",
    "    X_train_encoded,\n",
    "    y_train_log,\n",
    "    scoring=\"neg_root_mean_squared_error\",\n",
    "    cv=cv,\n",
    ")"
   ]
  },
  {
   "cell_type": "code",
   "execution_count": 18,
   "id": "b08e1541",
   "metadata": {},
   "outputs": [
    {
     "name": "stdout",
     "output_type": "stream",
     "text": [
      "RMSLE: 0.06886 ± 0.00034\n"
     ]
    }
   ],
   "source": [
    "print(f\"RMSLE: {-scores.mean():.5f} ± {scores.std():.5f}\")"
   ]
  },
  {
   "cell_type": "code",
   "execution_count": 19,
   "id": "c95ed236",
   "metadata": {},
   "outputs": [],
   "source": [
    "final_xgb_regressor = xgb_regressor.fit(X_train_encoded, y_train_log)"
   ]
  },
  {
   "cell_type": "markdown",
   "id": "5a2c2c1c",
   "metadata": {},
   "source": [
    "### Submission"
   ]
  },
  {
   "cell_type": "code",
   "execution_count": 20,
   "id": "2930aae7",
   "metadata": {},
   "outputs": [],
   "source": [
    "def generate_submission(\n",
    "    model,\n",
    "    df_encoded: pd.DataFrame,\n",
    "    original_df: pd.DataFrame,\n",
    "    filename: str = \"submission.csv\",\n",
    ") -> pd.DataFrame:\n",
    "    y_pred_log = model.predict(df_encoded)\n",
    "    y_pred = np.expm1(y_pred_log)\n",
    "\n",
    "    submission_df = pd.DataFrame(\n",
    "        {\"id\": original_df.index.values, \"Calories\": y_pred}\n",
    "    )\n",
    "\n",
    "    submission_df.to_csv(filename, index=False)\n",
    "    print(f\"✔ Submission saved to: {filename}\")\n",
    "\n",
    "    return submission_df"
   ]
  },
  {
   "cell_type": "code",
   "execution_count": 21,
   "id": "f62aa38d",
   "metadata": {},
   "outputs": [
    {
     "name": "stdout",
     "output_type": "stream",
     "text": [
      "✔ Submission saved to: ../data/final/submission.csv\n"
     ]
    }
   ],
   "source": [
    "submission = generate_submission(\n",
    "    model=final_xgb_regressor,\n",
    "    df_encoded=X_test_encoded,\n",
    "    original_df=df_test,\n",
    "    filename=FINAL_SUBMISSION_PATH\n",
    ")"
   ]
  }
 ],
 "metadata": {
  "kernelspec": {
   "display_name": ".venv",
   "language": "python",
   "name": "python3"
  },
  "language_info": {
   "codemirror_mode": {
    "name": "ipython",
    "version": 3
   },
   "file_extension": ".py",
   "mimetype": "text/x-python",
   "name": "python",
   "nbconvert_exporter": "python",
   "pygments_lexer": "ipython3",
   "version": "3.12.7"
  }
 },
 "nbformat": 4,
 "nbformat_minor": 5
}
